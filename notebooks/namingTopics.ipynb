{
 "cells": [
  {
   "cell_type": "markdown",
   "metadata": {},
   "source": [
    "# Naming topics"
   ]
  },
  {
   "cell_type": "markdown",
   "metadata": {},
   "source": [
    "The goal of this notebook is to give interpretable names to topics with an LLM. \n",
    "\n",
    "* Author: jgyou <jyoung22@uvm.edu>\n",
    "* Date: 12/22/2023\n",
    "* License: MIT\n"
   ]
  },
  {
   "cell_type": "code",
   "execution_count": 4,
   "metadata": {},
   "outputs": [],
   "source": [
    "from openai import OpenAI\n",
    "import json\n"
   ]
  },
  {
   "cell_type": "code",
   "execution_count": 5,
   "metadata": {},
   "outputs": [],
   "source": [
    "with open('../src/data/topic_info_embeddings.json', 'r') as f:\n",
    "    topic_embeddings = json.load(f)"
   ]
  },
  {
   "cell_type": "code",
   "execution_count": 11,
   "metadata": {},
   "outputs": [
    {
     "name": "stdout",
     "output_type": "stream",
     "text": [
      "ChatCompletionMessage(content=\"In the realm of code, where worlds collide,\\nLies a mysterious concept, by many abide.\\nEmerging like a pattern, infinitely profound,\\nRecursion, dear friend, forever spins around.\\n\\nBehold this wondrous loop that defies the norm,\\nWhere a function calls itself, in a dance so warm.\\nWith elegance and grace, it traverses anew,\\nUnleashing its power, unraveling a view.\\n\\nImagine a labyrinth, twisted and turned,\\nWhere echoes of instruction, eternally yearned.\\nA function dives in, exploring each alley,\\nUntil a base case, like a treasure, they tally.\\n\\nLike a fractal's embrace, it keeps multiplying,\\nUnfolding the puzzle, through depths undying.\\nWith each recursive leap, it mirrors its path,\\nMicrocosms within, a mathematical bath.\\n\\nMuch like a dream within a dream within a dream,\\nRecursion paints a picture, vivid and extreme.\\nAs it pierces the veil, it enters the abyss,\\nUnfolding the cosmos, in a code-filled tryst.\\n\\nBut beware, dear coder, this tantalizing spell,\\nRecursion can unleash, with power to compel.\\nWithout proper caution, it can lead to despair,\\nInfinite loops, devouring CPU and air.\\n\\nYet, when wielded with care, recursion is art,\\nSimplifying the complex, with a crafty chart.\\nBreaking problems down, layer by layer,\\nRecursion dances, a virtuoso affair.\\n\\nSo embrace this concept, with a creative might,\\nDecoding the enigma, guiding endless flight.\\nRecursion, dear friend, dances through the code,\\nA symphony of loops, where infinity's bestowed.\", role='assistant', function_call=None, tool_calls=None)\n"
     ]
    }
   ],
   "source": [
    "\n",
    "completion = client.chat.completions.create(\n",
    "  model=\"gpt-3.5-turbo\",\n",
    "  messages=[\n",
    "    {\"role\": \"system\", \"content\": \"You are a poetic assistant, skilled in explaining complex programming concepts with creative flair.\"},\n",
    "    {\"role\": \"user\", \"content\": \"Compose a poem that explains the concept of recursion in programming.\"}\n",
    "  ]\n",
    ")\n",
    "\n",
    "print(completion.choices[0].message)"
   ]
  },
  {
   "cell_type": "code",
   "execution_count": 35,
   "metadata": {},
   "outputs": [],
   "source": [
    "client = OpenAI(\n",
    "  api_key='KEY-GOES-HERE',\n",
    ")\n",
    "\n",
    "\n",
    "summaries = {}\n",
    "\n",
    "for t in topic_embeddings['Topic']:\n",
    "    if t == '0':\n",
    "        continue\n",
    "    prompt = f\"\"\"\n",
    "    Please write a short description of one or two words of the topic below. \n",
    "    The description should be short and concise, and should not be a sentence.\n",
    "    ----\n",
    "    Garbled name: {topic_embeddings['Name'][t]}\n",
    "    Top items: {topic_embeddings['Representation'][t]}\n",
    "    Example documents: {topic_embeddings['Representative_Docs'][t][0]}\n",
    "    \"\"\"\n",
    "\n",
    "    response = client.chat.completions.create(\n",
    "        model=\"gpt-4\",\n",
    "        messages=[\n",
    "            {\"role\": \"system\", \"content\": \"You are NLP topic modeling assistant.\"},\n",
    "            {\"role\": \"user\", \"content\": prompt}\n",
    "        ]\n",
    "    )\n",
    "    summaries[t] = response.choices[0].message.content"
   ]
  },
  {
   "cell_type": "code",
   "execution_count": 38,
   "metadata": {},
   "outputs": [],
   "source": [
    "with open('../src/data/topic_summaries.json', 'w') as f:\n",
    "    json.dump(summaries, f, indent=4)"
   ]
  }
 ],
 "metadata": {
  "kernelspec": {
   "display_name": "Python 3",
   "language": "python",
   "name": "python3"
  },
  "language_info": {
   "codemirror_mode": {
    "name": "ipython",
    "version": 3
   },
   "file_extension": ".py",
   "mimetype": "text/x-python",
   "name": "python",
   "nbconvert_exporter": "python",
   "pygments_lexer": "ipython3",
   "version": "3.11.6"
  }
 },
 "nbformat": 4,
 "nbformat_minor": 2
}
