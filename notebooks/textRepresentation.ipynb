{
 "cells": [
  {
   "cell_type": "markdown",
   "metadata": {},
   "source": [
    "# Creating text representations"
   ]
  },
  {
   "cell_type": "markdown",
   "metadata": {},
   "source": [
    "The goal of this notebook is to convert data about a market to a text representation we can use for embedding.\n",
    "\n",
    "* Author: jgyou <jyoung22@uvm.edu>\n",
    "* Date: 12/29/2023\n",
    "* License: MIT\n"
   ]
  },
  {
   "cell_type": "code",
   "execution_count": 143,
   "metadata": {},
   "outputs": [],
   "source": [
    "import manifoldpy\n",
    "from datetime import datetime\n",
    "from collections.abc import Iterable"
   ]
  },
  {
   "cell_type": "markdown",
   "metadata": {},
   "source": [
    "Some utility functions for handling weird data types:"
   ]
  },
  {
   "cell_type": "code",
   "execution_count": 88,
   "metadata": {},
   "outputs": [],
   "source": [
    "def _text_date(timestamp):\n",
    "    \"\"\"Turn timestamp into a text date in the format of mm-dd-yyyy.\"\"\"\n",
    "    return datetime.utcfromtimestamp(timestamp/1000).strftime('%m-%d-%Y')"
   ]
  },
  {
   "cell_type": "code",
   "execution_count": 144,
   "metadata": {},
   "outputs": [],
   "source": [
    "def _textify(comment):\n",
    "    \"\"\"Turn a comment into a text representation.\"\"\"\n",
    "    return [y['text'] for x in comment.content['content'] \n",
    "            if (x['type'] == 'paragraph' and  isinstance(x.get('content'), Iterable)) \n",
    "            for y in x.get('content') if y.get('type') == 'text']\n"
   ]
  },
  {
   "cell_type": "code",
   "execution_count": 145,
   "metadata": {},
   "outputs": [],
   "source": [
    "def comment_text_representation(comment):\n",
    "    \"\"\"Turn a comment into a full text representation including dates and likes.\"\"\"\n",
    "    representation = \"[Date]: \" + _text_date(comment.createdTime) + \"\\n\" \\\n",
    "        \"[Likes] \" + str(comment.likes) + \"\\n\" \\\n",
    "        \"[Text]: \" + \" \".join(_textify(comment)) + \"\\n\"\n",
    "    return representation"
   ]
  },
  {
   "cell_type": "code",
   "execution_count": 147,
   "metadata": {},
   "outputs": [],
   "source": [
    "def market_text_representation(marketSlug):\n",
    "    \"\"\"Construct text representation of a market from its slug.\n",
    "    \n",
    "    Parameters\n",
    "    ----------\n",
    "    marketSlug : str\n",
    "        The slug of the market to be represented.\n",
    "    \n",
    "    Returns\n",
    "    -------\n",
    "    str\n",
    "        The text representation of the market.\n",
    "    \"\"\"\n",
    "    # get market from slug\n",
    "    market = manifoldpy.api.get_slug(marketSlug)\n",
    "    # get comments by market creator\n",
    "    comment_data = manifoldpy.api.get_comments(marketSlug=marketSlug)\n",
    "    comments = [c for c in comment_data if c.userId == market.creatorId]\n",
    "    representation = \"[Market title] \" + market.question + \"\\n\" + \\\n",
    "        '[Market description] ' + market.textDescription + \"\\n\" + \\\n",
    "        '[Market creator] ' + market.creatorName + \"\\n\" + \\\n",
    "        '[Creation date] ' + _text_date(market.createdTime) + \"\\n\" + \\\n",
    "        '[Closing data] ' + _text_date(market.closeTime) + \"\\n\" + \\\n",
    "        \"------------------------------------------------------\\n\" + \\\n",
    "        \"Comments by market creator\\n\" + \\\n",
    "        \"------------------------------------------------------\\n\" + \\\n",
    "        \"---\\n\".join([comment_text_representation(c) for c in comments])\n",
    "    return representation"
   ]
  },
  {
   "cell_type": "code",
   "execution_count": 150,
   "metadata": {},
   "outputs": [
    {
     "name": "stdout",
     "output_type": "stream",
     "text": [
      "[Market title] Will Builders remedy take effect for San Francisco in 2023?\n",
      "[Market description] if San Francisco fails to satisfy its RHNA requirements and the state puts builders remedy into effect for the city this will resolve yes. \n",
      "[Market creator] Kevin Kwok\n",
      "[Creation date] 10-28-2023\n",
      "[Closing data] 01-01-2024\n",
      "------------------------------------------------------\n",
      "Comments by market creator\n",
      "------------------------------------------------------\n",
      "[Date]: 11-28-2023\n",
      "[Likes] None\n",
      "[Text]: Looks like HCD gave another 30 days extension. Between that and some lack of clarity on whether builders remedy would be the immediate consequence, chances of builders remedy by EOY looking lower https://sfstandard.com/2023/11/27/san-francisco-blows-state-housing-deadline-constraints-reduction-ordinance/\n",
      "---\n",
      "[Date]: 10-31-2023\n",
      "[Likes] None\n",
      "[Text]: https://twitter.com/_fruchtose/status/1719120862559997991?s=12&t=lMwdlElrn7H4f1W6FIDZ9w\n",
      "\n"
     ]
    }
   ],
   "source": [
    "exampleSlug = 'will-builders-remedy-take-effect-fo'\n",
    "\n",
    "representation = market_text_representation(exampleSlug)\n",
    "print(representation)"
   ]
  },
  {
   "cell_type": "markdown",
   "metadata": {},
   "source": [
    "TODO: \n",
    "* Explore different representations\n",
    "* Add access via IDs.\n",
    "* Apply at scale"
   ]
  }
 ],
 "metadata": {
  "kernelspec": {
   "display_name": "Python 3",
   "language": "python",
   "name": "python3"
  },
  "language_info": {
   "codemirror_mode": {
    "name": "ipython",
    "version": 3
   },
   "file_extension": ".py",
   "mimetype": "text/x-python",
   "name": "python",
   "nbconvert_exporter": "python",
   "pygments_lexer": "ipython3",
   "version": "3.11.6"
  }
 },
 "nbformat": 4,
 "nbformat_minor": 2
}
