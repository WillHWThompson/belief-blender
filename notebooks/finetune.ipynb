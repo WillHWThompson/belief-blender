{
 "cells": [
  {
   "cell_type": "code",
   "execution_count": 4,
   "metadata": {},
   "outputs": [
    {
     "name": "stdout",
     "output_type": "stream",
     "text": [
      "The autoreload extension is already loaded. To reload it, use:\n",
      "  %reload_ext autoreload\n"
     ]
    }
   ],
   "source": [
    "%load_ext autoreload\n",
    "%autoreload 2 \n",
    "#%autoreload 2\n",
    "# market = results[0]\n",
    "# print(market['slug'])\n",
    "# my_slug = market['slug']\n",
    "# my_market = mp.api.get_slug(my_slug)\n",
    "# print(my_marA\n",
    "\n",
    "import os \n",
    "import sys\n",
    "sys.path.append(\"../src\")\n",
    "from scraping import *\n",
    "import manifoldpy as mp\n",
    "from datetime import datetime\n",
    "import time\n",
    "from bertopic import BERTopic\n",
    "import matplotlib.pyplot as plt\n",
    "from tqdm import tqdm\n",
    "import requests"
   ]
  },
  {
   "cell_type": "code",
   "execution_count": 5,
   "metadata": {},
   "outputs": [],
   "source": [
    "# market = results[0]\n",
    "# print(market['slug'])\n",
    "# my_slug = market['slug']\n",
    "# my_market = mp.api.get_slug(my_slug)\n",
    "# print(my_market)"
   ]
  },
  {
   "cell_type": "code",
   "execution_count": 6,
   "metadata": {},
   "outputs": [
    {
     "name": "stdout",
     "output_type": "stream",
     "text": [
      "2x2-will-labour-get-a-majority-will-ddcf4bd17743\n",
      "market not found\n",
      "2x2-will-labour-get-majority-will-t\n",
      "market not found\n",
      "will-apple-release-an-ipad-larger-t-255212df90ca\n",
      "market not found\n",
      "2x2-will-labour-get-a-majority-will-0202f8414ec6\n",
      "market not found\n",
      "2x2-will-labour-get-majority-will-f\n",
      "market not found\n",
      "will-labour-win-a-majority-in-the-n\n",
      "market not found\n",
      "will-the-san-francisco-49ers-beat-t-01b1c13c5bc3\n",
      "market not found\n",
      "2x2-will-labour-get-a-majority-will-c4b9fc5ceb0a\n",
      "market not found\n",
      "will-the-philadelphia-eagles-beat-t-acc4ea9b0728\n",
      "market not found\n",
      "will-the-kansas-city-chiefs-beat-th-0d9f91d60e06\n",
      "market not found\n",
      "will-the-uks-ftse-100-close-higher-9382aa053bca\n",
      "market not found\n",
      "will-the-denver-broncos-beat-the-ne-4b879b9f42d2\n",
      "market not found\n",
      "will-the-miami-dolphins-beat-the-da\n",
      "market not found\n",
      "will-the-chicago-bears-beat-the-ari\n",
      "market not found\n",
      "will-the-tampa-bay-buccaneers-beat-cebce71f14c4\n",
      "market not found\n",
      "will-the-houston-texans-beat-the-cl\n",
      "market not found\n",
      "2x2-will-labour-get-a-majority-will\n",
      "market not found\n",
      "will-the-carolina-panthers-beat-the-328c17acfbb3\n",
      "market not found\n",
      "will-the-minnesota-vikings-beat-the-8a27b36f181e\n",
      "market not found\n",
      "will-the-fda-approve-a-drug-to-prev\n",
      "market not found\n",
      "2x2-will-labour-get-a-majorit-will\n",
      "market not found\n",
      "will-the-tennessee-titans-beat-the-eae95c62bd4c\n",
      "market not found\n",
      "when-will-the-winds-of-winter-a-son\n",
      "market not found\n",
      "will-the-atlanta-falcons-beat-the-i\n",
      "market not found\n",
      "will-the-new-york-jets-beat-the-was\n",
      "market not found\n",
      "will-the-los-angeles-chargers-beat-38529a258e49\n",
      "market not found\n",
      "will-the-pittsburgh-steelers-beat-t-72e49cb50670\n",
      "market not found\n",
      "will-the-los-angeles-rams-beat-the-18a7b04d023d\n",
      "market not found\n",
      "resolves-to-the-percentage-of-the-v\n",
      "market not found\n",
      "are-trans-women-real-women\n",
      "market not found\n",
      "deontay-wilder-vs-joseph-parker\n",
      "market not found\n",
      "anthony-joshua-vs-otto-wallin\n",
      "market not found\n",
      "will-the-supreme-court-rule-90-over\n",
      "market not found\n",
      "will-manifold-add-clear-and-effecti\n",
      "market not found\n",
      "will-bitcoin-close-higher-on-decemb-81433b06666f\n",
      "market not found\n",
      "will-bitcoin-close-higher-on-decemb-eaaef56613bf\n",
      "market not found\n",
      "will-50-or-more-americans-have-a-pa\n",
      "market not found\n",
      "will-bitcoin-close-higher-on-decemb-8ca5cf2c7e5f\n",
      "market not found\n",
      "will-bitcoin-close-higher-on-decemb-239c4c95c7ac\n",
      "market not found\n",
      "will-bitcoin-close-higher-on-decemb-f84d438a9b5a\n",
      "market not found\n",
      "will-bitcoin-close-higher-on-decemb-7b6e3389261c\n",
      "market not found\n",
      "will-bitcoin-close-higher-on-decemb-be0c282db9e2\n",
      "market not found\n",
      "will-bitcoin-close-higher-on-decemb-6c61414572b5\n",
      "market not found\n",
      "will-bitcoin-close-higher-on-decemb-3b34f59ac18e\n",
      "market not found\n",
      "will-xlm-close-higher-on-january-1\n",
      "market not found\n",
      "will-xlm-close-higher-on-december-3-742f0163e86d\n",
      "market not found\n",
      "will-xlm-close-higher-on-december-3-5b9f6b3e31d3\n",
      "market not found\n",
      "will-xlm-close-higher-on-december-2-00d322382514\n",
      "market not found\n",
      "will-xlm-close-higher-on-december-2-2e25043cad95\n",
      "market not found\n",
      "will-xlm-close-higher-on-december-2-45adafd9c7da\n",
      "market not found\n",
      "will-xlm-close-higher-on-december-2-46205fa59cba\n",
      "market not found\n",
      "will-xlm-close-higher-on-december-2-e168d227c8a9\n",
      "market not found\n",
      "will-xlm-close-higher-on-december-2-5241c8fa9f20\n",
      "market not found\n",
      "will-xlm-close-higher-on-december-2-eefb0e3abdd3\n",
      "market not found\n",
      "will-bnb-close-higher-on-january-1\n",
      "market not found\n",
      "will-bnb-close-higher-on-december-3-07b085a78a69\n",
      "market not found\n",
      "will-bnb-close-higher-on-december-3-46084303b68c\n",
      "market not found\n",
      "will-bnb-close-higher-on-december-2-051f2f4ead9a\n",
      "market not found\n",
      "will-bnb-close-higher-on-december-2-35587e6a21ba\n",
      "market not found\n",
      "will-bnb-close-higher-on-december-2-df97790898b3\n",
      "market not found\n",
      "will-bnb-close-higher-on-december-2-e0b1dd1eccfa\n",
      "market not found\n",
      "will-bnb-close-higher-on-december-2-8b414d31f35c\n",
      "market not found\n",
      "will-bnb-close-higher-on-december-2-4b9b01134fc3\n",
      "market not found\n",
      "will-bnb-close-higher-on-december-2-6354e3b4bac5\n",
      "market not found\n",
      "will-xmr-close-higher-on-january-1\n",
      "market not found\n",
      "will-xmr-close-higher-on-december-3-6b99513e49b3\n",
      "market not found\n",
      "will-xmr-close-higher-on-december-3\n",
      "market not found\n",
      "will-xmr-close-higher-on-december-2-2028588b76bc\n",
      "market not found\n",
      "will-xmr-close-higher-on-december-2-f91619b921c1\n",
      "market not found\n",
      "will-xmr-close-higher-on-december-2-8917ac94c8e5\n",
      "market not found\n",
      "will-xmr-close-higher-on-december-2-b10d4a4078e5\n",
      "market not found\n",
      "will-xmr-close-higher-on-december-2-282ecbd3ab7d\n",
      "market not found\n",
      "will-xmr-close-higher-on-december-2-8648f7fa01a1\n",
      "market not found\n",
      "will-xmr-close-higher-on-december-2-6cc7d0491ad2\n",
      "market not found\n",
      "which-of-my-following-daily-goals-w\n",
      "market not found\n",
      "will-dot-close-higher-on-december-3-3aa111ba4f44\n",
      "market not found\n",
      "will-dot-close-higher-on-december-3-0295f07fe09d\n",
      "market not found\n",
      "will-dot-close-higher-on-december-2-a8df7860f022\n",
      "market not found\n",
      "will-dot-close-higher-on-december-2-22c7b53a207c\n",
      "market not found\n",
      "will-dot-close-higher-on-december-2-737ca85d8c97\n",
      "market not found\n",
      "will-dot-close-higher-on-december-2-3981fa64a12c\n",
      "market not found\n",
      "will-dot-close-higher-on-december-2-27123e90fe51\n",
      "market not found\n",
      "will-dot-close-higher-on-december-2-5d2a04437355\n",
      "market not found\n",
      "will-dot-close-higher-on-december-2-e089b4a72994\n",
      "market not found\n",
      "will-dot-close-higher-on-january-1\n",
      "market not found\n",
      "january-start-will-bitcoin-close-hi\n",
      "market not found\n",
      "will-donald-trump-be-on-the-2024-pr\n",
      "market not found\n",
      "will-sol-close-higher-on-january-1\n",
      "market not found\n",
      "will-sol-close-higher-on-december-3-4316601fdfe2\n",
      "market not found\n",
      "will-sol-close-higher-on-december-2-26ad2d68ea6b\n",
      "market not found\n",
      "will-sol-close-higher-on-december-2-a67c7c88543b\n",
      "market not found\n",
      "will-sol-close-higher-on-december-2-d642f3480929\n",
      "market not found\n",
      "will-sol-close-higher-on-december-2-56f7ff01d7a1\n",
      "market not found\n",
      "will-sol-close-higher-on-december-2-703370b41146\n",
      "market not found\n",
      "will-sol-close-higher-on-december-2-c67dc7da0a8d\n",
      "market not found\n",
      "will-sol-close-higher-on-december-2-439f05da5581\n",
      "market not found\n",
      "will-sol-close-higher-on-december-3-1c0f15b33e64\n",
      "market not found\n",
      "will-xrp-close-higher-on-january-1\n",
      "market not found\n",
      "will-xrp-close-higher-on-december-3-b2840e4e8bec\n",
      "market not found\n",
      "will-xrp-close-higher-on-december-3-52b92cda38ae\n",
      "market not found\n",
      "will-xrp-close-higher-on-december-2-6e1b5b989e5d\n",
      "market not found\n",
      "will-xrp-close-higher-on-december-2-094d25841a19\n",
      "market not found\n",
      "will-xrp-close-higher-on-december-2-412accd01b09\n",
      "market not found\n",
      "will-xrp-close-higher-on-december-2-b188a5002463\n",
      "market not found\n",
      "will-xrp-close-higher-on-december-2-484937d9cad0\n",
      "market not found\n",
      "will-xrp-close-higher-on-december-2-86fad133e281\n",
      "market not found\n",
      "will-xrp-close-higher-on-december-2-ffc978477dad\n",
      "market not found\n",
      "will-breezybot-finish-in-last-place\n",
      "market not found\n",
      "january-start-will-the-sp-500-close\n",
      "market not found\n",
      "will-the-tsx-close-higher-on-januar\n",
      "market not found\n",
      "will-the-us-supreme-court-agree-wit\n",
      "market not found\n",
      "december-end-will-the-sp-500-close\n",
      "market not found\n",
      "will-the-tsx-close-higher-on-decemb-35a10a8b1d60\n",
      "market not found\n",
      "will-the-tsx-close-higher-on-decemb-5af778688341\n",
      "market not found\n",
      "will-the-sp-500-close-higher-on-dec-96f7017e661d\n",
      "market not found\n",
      "will-the-sp-500-close-higher-on-dec-0d6acd654d1d\n",
      "market not found\n",
      "will-the-tsx-close-higher-on-decemb-152a74bb1d24\n",
      "market not found\n",
      "will-the-tsx-close-higher-on-decemb-41e13917cc64\n",
      "market not found\n",
      "will-the-sp-500-close-higher-on-dec-df12f6164bfb\n",
      "market not found\n",
      "will-the-tsx-close-higher-on-decemb-1d2e4072a68e\n",
      "market not found\n",
      "will-the-sp-500-close-higher-on-dec-b5dd9c70281f\n",
      "market not found\n",
      "will-xrp-close-higher-on-december-2-6ae8ef33f1bc\n",
      "market not found\n",
      "will-sol-close-higher-on-december-2-a27b951b7068\n",
      "market not found\n",
      "will-bitcoin-close-higher-on-decemb-810ab64f58b6\n",
      "market not found\n",
      "will-dot-close-higher-on-december-2-f47b441d105c\n",
      "market not found\n",
      "will-xlm-close-higher-on-december-2-28e0a672eac5\n",
      "market not found\n",
      "will-bnb-close-higher-on-december-2-72929dd62fa1\n",
      "market not found\n",
      "will-xmr-close-higher-on-december-2-803cade229b4\n",
      "market not found\n",
      "daily-will-aapl-close-higher-on-dec-0be6382ae48d\n",
      "market not found\n",
      "daily-will-lockheed-martin-lmt-clos-3f3679a2a148\n",
      "market not found\n",
      "daily-will-nvda-close-higher-on-dec-1bdc024baf03\n",
      "market not found\n",
      "daily-will-amzn-close-higher-on-dec-dbfc591cc343\n",
      "market not found\n",
      "daily-will-goog-close-higher-on-dec-9cf063fcca44\n",
      "market not found\n",
      "will-donald-trump-appeal-the-colora\n",
      "market not found\n",
      "the-israelhamas-war-will-mostly-end\n",
      "market not found\n",
      "will-ford-q2-2024-gross-profit-exce\n",
      "market not found\n",
      "daily-coinflip-57b4ccca7ea5\n",
      "market not found\n",
      "how-many-wsop-gold-bracelets-will-p\n",
      "market not found\n",
      "will-we-get-asi-before-2030\n",
      "market not found\n",
      "how-will-scotus-rule-on-the-colorad\n",
      "market not found\n",
      "by-feb-2024-will-the-policy-change\n",
      "market not found\n",
      "will-verses-form-any-collaborative\n",
      "market not found\n",
      "will-we-get-agi-before-july-1st-202-cc476ae11c36\n",
      "market not found\n",
      "what-will-harvey-be-valued-at-in-th\n",
      "market not found\n",
      "will-wolves-beat-chelsea-during-reg\n",
      "market not found\n",
      "will-the-next-version-of-dungeons-a\n",
      "market not found\n",
      "will-russia-ban-usage-of-youtube-in\n",
      "market not found\n",
      "does-anthropic-have-a-better-govern\n",
      "market not found\n",
      "what-percentage-of-days-will-i-trad\n",
      "market not found\n",
      "will-openai-be-involved-in-a-big-sc\n",
      "market not found\n",
      "will-kyrgyzstan-beat-uzbekistan-dur\n",
      "market not found\n",
      "will-liverpool-beat-arsenal-during\n",
      "market not found\n",
      "will-atletico-madrid-beat-sevilla-d-295962bd8fd1\n",
      "market not found\n",
      "will-tottenham-beat-everton-during\n",
      "market not found\n",
      "will-nottingham-forest-beat-bournem\n",
      "market not found\n",
      "will-luton-beat-newcastle-during-re\n",
      "market not found\n",
      "will-fulham-beat-burnley-during-reg\n",
      "market not found\n",
      "will-west-ham-beat-manchester-unite\n",
      "market not found\n",
      "will-there-be-a-crewed-mission-to-s-8ed0dd4c92a3\n",
      "market not found\n",
      "will-there-be-a-crewed-mission-to-j-a9a3f325ef11\n",
      "market not found\n",
      "will-amazon-and-google-together-lay\n",
      "market not found\n",
      "will-amazon-layoff-more-than-1000-e\n",
      "market not found\n",
      "will-google-layoff-more-than-1000-e\n",
      "market not found\n",
      "will-there-be-a-dyson-sphere-around-655a4defd440\n",
      "market not found\n",
      "which-of-the-following-social-platf\n",
      "market not found\n",
      "is-twitterx-being-treated-fairly-by\n",
      "market not found\n",
      "nooro-knee-massager-reviews-custome\n",
      "market not found\n",
      "will-xi-jinping-be-the-leader-of-ch-bf8eed726e3c\n",
      "market not found\n",
      "will-vladimir-putin-be-the-leader-o\n",
      "market not found\n",
      "will-kim-jong-un-be-the-leader-of-n-1244cc6dbed1\n",
      "market not found\n",
      "is-sam-altman-behind-jimmy-apple-ac\n",
      "market not found\n",
      "will-england-win-the-uefa-euro-2024-b0144e0496d6\n",
      "market not found\n",
      "will-twitchtvliam-finish-a-sm64-120-f1ebbf232606\n",
      "market not found\n",
      "will-there-be-a-baby-president-befo\n",
      "market not found\n",
      "will-level-5-fully-autonomous-cars\n",
      "market not found\n",
      "will-alphabet-inc-spin-youtube-off\n",
      "market not found\n",
      "nha-cai-i9bet-8acaa8bb75cb\n",
      "market not found\n",
      "am-i-eating-good-fba9e0b84b80\n",
      "market not found\n",
      "will-i-lift-weights-today-1d11fe467bf5\n",
      "market not found\n",
      "geometry-dash-online\n",
      "market not found\n",
      "will-hamas-negotiate-to-release-mor\n",
      "market not found\n",
      "how-high-will-the-uks-cpi-inflation\n",
      "market not found\n",
      "will-the-price-of-bitcoin-hit-150k\n",
      "market not found\n",
      "will-chelsea-fc-win-the-fa-cup\n",
      "market not found\n",
      "will-chelsea-fc-win-the-carabao-cup\n",
      "market not found\n",
      "are-panama-amazons-for-sale\n",
      "market not found\n",
      "how-many-is-a-few\n",
      "market not found\n",
      "who-will-win-advent-of-code-today\n",
      "market not found\n",
      "will-silver-close-higher-dec-20-tha\n",
      "market not found\n",
      "will-gold-close-higher-dec-20-than\n",
      "market not found\n",
      "nof1-blinded-experiment-will-500mg\n",
      "market not found\n",
      "will-platinum-close-higher-dec-20-t\n",
      "market not found\n",
      "will-usdcad-close-higher-dec-20-tha\n",
      "market not found\n",
      "what-move-should-manifold-make-fift\n",
      "market not found\n",
      "will-the-new-york-islanders-beat-wa\n",
      "market not found\n",
      "will-the-washington-capitals-beat-n\n",
      "market not found\n",
      "will-the-winnipeg-jets-beat-detroit\n",
      "market not found\n",
      "will-the-los-angeles-kings-beat-sea-07492ba29731\n",
      "market not found\n",
      "will-road-cycling-on-br-sports-on-m\n",
      "market not found\n",
      "will-gen-digital-close-higher-dec-2\n",
      "market not found\n",
      "will-broadcom-close-higher-dec-26-t\n",
      "market not found\n",
      "will-att-close-higher-december-26-t\n",
      "market not found\n",
      "will-intel-close-higher-december-26\n",
      "market not found\n",
      "will-advanced-micro-devices-close-h-d8f1b8e40f04\n",
      "market not found\n",
      "will-the-us-supreme-court-rule-by-1\n",
      "market not found\n",
      "will-a-colorado-pass-a-ballot-measu\n",
      "market not found\n",
      "will-human-civilization-have-altere\n",
      "market not found\n",
      "will-a-pure-nuclear-fusion-bomb-be\n",
      "market not found\n",
      "will-ai-produce-a-i-have-no-mouth-a\n",
      "market not found\n",
      "who-will-be-most-likely-to-win-the\n",
      "market not found\n",
      "if-trump-gets-elected-will-prescrib-4f892f44d041\n",
      "market not found\n",
      "if-trump-gets-elected-will-prescrib\n",
      "market not found\n",
      "how-many-states-will-disqualify-don\n",
      "market not found\n",
      "how-much-money-should-i-set-aside-f\n",
      "market not found\n",
      "will-jamie-maussans-nonhuman-beings\n",
      "market not found\n",
      "will-there-be-us-elections-in-2024\n",
      "market not found\n",
      "will-kasparov-and-karpov-play-a-che\n",
      "market not found\n",
      "jet-lag-the-game-season-eight-truth\n",
      "market not found\n",
      "will-pfizer-close-higher-dec-26-tha\n",
      "market not found\n",
      "will-spacex-perform-at-least-144-su\n",
      "market not found\n",
      "will-i-dump-my-coinbase-shares-in-2\n",
      "market not found\n",
      "will-the-2024-super-bowl-be-the-mos\n",
      "market not found\n",
      "will-there-be-a-sub-7-minute-minecr\n",
      "market not found\n",
      "cool-nickname-for-calibration-maxim\n",
      "market not found\n",
      "first-person-to-explain-clearly-and\n",
      "market not found\n",
      "will-the-colorado-supreme-court-dec\n",
      "market not found\n",
      "will-trump-appear-on-the-presidenti\n",
      "market not found\n",
      "what-is-more-likely-to-happen-in-th\n",
      "market not found\n",
      "ernies-market-creation-bounty-marke\n",
      "market not found\n",
      "will-atetraspace-legal-entity-exist\n",
      "market not found\n",
      "serbia-will-begin-paying-serbs-from\n",
      "market not found\n",
      "turkey-will-begin-paying-turks-from\n",
      "market not found\n",
      "if-president-trump-is-not-on-the-ge\n",
      "market not found\n",
      "will-the-bruins-beat-the-wild-tonig\n",
      "market not found\n",
      "will-tetraspace-actually-apply-for\n",
      "market not found\n",
      "will-president-trump-be-on-the-colo\n",
      "market not found\n",
      "will-destiny-drop-a-manifesto-on-me\n",
      "market not found\n",
      "what-books-will-tetraspace-enjoy\n",
      "market not found\n",
      "will-tetraspaces-cold-get-worse-ove\n",
      "market not found\n",
      "will-tetraspace-get-an-acx-grant\n",
      "market not found\n",
      "will-tetraspace-be-at-vibeclipse\n",
      "market not found\n",
      "will-i-do-work-tomorrow\n",
      "market not found\n",
      "will-the-supreme-court-rule-unanimo\n",
      "market not found\n",
      "will-scotus-overturn-the-decision-o\n",
      "market not found\n",
      "assuming-scotus-takes-the-case-when\n",
      "market not found\n",
      "heads-or-tails-61b88f59d565\n",
      "market not found\n",
      "supreme-court-upholds-co-removal-of\n",
      "market not found\n",
      "who-will-run-for-us-president-befor\n",
      "market not found\n",
      "will-the-ishares-semiconductor-etf-85af2e358e6b\n",
      "market not found\n",
      "will-the-ishares-semiconductor-etf-fa777eb0dc4e\n",
      "market not found\n",
      "will-the-ishares-semiconductor-etf-d6c51961489e\n",
      "market not found\n",
      "which-nasdaq-stock-will-have-the-5t-f20d5814616a\n",
      "market not found\n",
      "will-destiny-drop-the-melifesto-in\n",
      "market not found\n",
      "will-trump-be-legally-allowed-to-ru\n",
      "market not found\n",
      "will-scotus-reverse-the-colorado-su\n",
      "market not found\n",
      "will-scotus-grant-cert-take-on-the\n",
      "market not found\n",
      "cricket-will-virat-kohli-score-more\n",
      "market not found\n",
      "cricket-which-4-teams-will-qualify\n",
      "market not found\n",
      "cricket-will-rohit-sharma-play-for\n",
      "market not found\n",
      "relationship-of-karenstanley-markwa\n",
      "market not found\n",
      "will-there-be-a-manifold-markets-fi\n",
      "market not found\n",
      "will-clone-drone-in-the-danger-zone\n",
      "market not found\n",
      "will-zach-star-post-a-comedy-sketch\n",
      "market not found\n",
      "will-animal-communication-be-transl\n",
      "market not found\n",
      "will-moonmoon-whip-out-lenny-hawk-o\n",
      "market not found\n",
      "taiwan-tag-test\n",
      "market not found\n",
      "will-fewer-people-use-ketamine-as-a\n",
      "market not found\n",
      "will-pax-dei-feature-a-plexlike-sys\n",
      "market not found\n",
      "will-mira-ever-start-a-cult\n",
      "market not found\n",
      "supreme-court-ruling-on-350-file-co\n",
      "market not found\n",
      "will-pvdd-get-a-seat-in-the-europea\n",
      "market not found\n",
      "will-ithaca-work-again-before-2024\n",
      "market not found\n",
      "will-bbb-get-seat-in-the-european-p\n",
      "market not found\n",
      "will-cda-get-a-seat-in-the-european\n",
      "market not found\n",
      "will-firstuserhere-walk-100000-step-c923dc2764bb\n",
      "market not found\n",
      "who-will-be-the-primary-antagonist\n",
      "market not found\n",
      "will-ai-girlfriends-overtake-real-g\n",
      "market not found\n",
      "would-nonlinear-win-a-libel-suit-ag\n",
      "market not found\n",
      "relationship-of-eggnogdenier-sim\n",
      "market not found\n",
      "will-a-10th-judge-be-appointed-to-t\n",
      "market not found\n",
      "of-the-top-18-jobs-in-the-us-in-the\n",
      "market not found\n",
      "will-the-federal-reserve-cut-rates-2fe0f9fcc541\n",
      "market not found\n",
      "will-i-get-an-ai-safety-summer-inte\n",
      "market not found\n",
      "which-film-will-win-the-oscar-award\n",
      "market not found\n",
      "will-i-cowrite-an-ai-safety-researc\n",
      "market not found\n",
      "will-the-houthis-sink-a-ship-in-the\n",
      "market not found\n",
      "will-etchedai-release-a-chip-by-the\n",
      "market not found\n",
      "will-i-attend-asprwarp-in-2024\n",
      "market not found\n",
      "which-shows-will-be-nominated-for-a\n",
      "market not found\n",
      "will-massimo-and-apple-resolve-thei\n",
      "market not found\n",
      "have-verses-and-karl-friston-achiev\n",
      "market not found\n",
      "what-time-zone-for-unspecified-new\n",
      "market not found\n",
      "will-i-get-into-college-6f3235098d2b\n",
      "market not found\n",
      "will-there-be-a-6th-life-series-in\n",
      "market not found\n",
      "will-french-national-assembly-vote\n",
      "market not found\n",
      "will-clears-biometric-customer-data\n",
      "market not found\n",
      "relationship-of-fm-elyely\n",
      "market not found\n",
      "in-magic-the-gathering-will-any-add\n",
      "market not found\n",
      "will-cori-bush-win-reelection-to-th\n",
      "market not found\n",
      "if-i-am-revived-from-cryopreservati\n",
      "market not found\n",
      "relationship-of-42irrationalist-rac\n",
      "market not found\n",
      "how-would-you-react-if-someone-in-a\n",
      "market not found\n",
      "if-i-am-cryopreserved-why-was-i-not\n",
      "market not found\n",
      "will-there-be-a-counterfeit-card-in\n",
      "market not found\n",
      "will-tal-broda-be-fired-or-demoted\n",
      "market not found\n",
      "do-you-think-we-will-get-reliable-e-04a33d8d9089\n",
      "market not found\n",
      "london-manifoldlove-dating-show-who\n",
      "market not found\n",
      "what-is-my-mysterious-hand-ailment\n",
      "market not found\n",
      "london-manifoldlove-dating-show-how\n",
      "market not found\n",
      "will-manifold-introduce-an-aibased\n",
      "market not found\n",
      "daily-will-goog-close-higher-on-dec-e2e544073971\n",
      "market not found\n",
      "will-voting-on-polls-show-up-in-the\n",
      "market not found\n",
      "daily-will-amzn-close-higher-on-dec-2426a00182ec\n",
      "market not found\n",
      "will-the-usa-top-1-total-common-wea\n",
      "market not found\n",
      "daily-will-nvda-close-higher-on-dec-403fb609399b\n",
      "market not found\n",
      "daily-will-lockheed-martin-lmt-clos-dd2315835c68\n",
      "market not found\n",
      "daily-will-aapl-close-higher-on-dec-adaef82b483f\n",
      "market not found\n",
      "do-you-think-we-will-get-reliable-e\n",
      "market not found\n",
      "do-you-think-llms-have-been-used-by\n",
      "market not found\n",
      "what-anime-should-i-watch-in-2024\n",
      "market not found\n",
      "will-destiny-cry-on-stream-before-2\n",
      "market not found\n",
      "will-the-bitcoin-sidechains-have-mo\n",
      "market not found\n",
      "will-the-ice-caps-be-bigger-in-july\n",
      "market not found\n",
      "relationship-of-sapphiremiu-halthew\n",
      "market not found\n",
      "clarence-thomas-will-rule-the-major\n",
      "market not found\n",
      "how-many-chapters-will-one-piece-ha\n",
      "market not found\n",
      "which-highrisk-threshold-as-defined\n",
      "market not found\n",
      "will-a-new-rachet-and-clank-game-re\n",
      "market not found\n",
      "will-the-international-seabed-autho-dfe555a0acaf\n",
      "market not found\n",
      "will-fide-rate-firouzjas-minimatche\n",
      "market not found\n",
      "epstein-documents-deadpool-who-will\n",
      "market not found\n",
      "daily-will-aapl-close-higher-on-dec-332816417b79\n",
      "market not found\n",
      "daily-will-lockheed-martin-lmt-clos-aeab439964ca\n",
      "market not found\n",
      "daily-will-nvda-close-higher-on-dec-136242f72d67\n",
      "market not found\n",
      "daily-will-msft-close-higher-on-dec-08cb83be3fa5\n",
      "market not found\n",
      "daily-will-amzn-close-higher-on-dec-ecbcea23ccc4\n",
      "market not found\n",
      "daily-will-goog-close-higher-on-dec-1275f8d1bbbc\n",
      "market not found\n",
      "will-the-2024-presidential-election-c63f396fba08\n",
      "market not found\n",
      "which-month-during-2024-or-2025-wil\n",
      "market not found\n",
      "recommend-physics-opportunities-for\n",
      "market not found\n",
      "which-month-during-2024-will-bitcoi-fff2c9dd02cf\n",
      "market not found\n",
      "will-statement-expressions-become-p\n",
      "market not found\n",
      "will-i-smoke-weed-on-over-25-days-a\n",
      "market not found\n",
      "will-sam-altman-be-the-ceo-of-opena-2870dd0540ca\n",
      "market not found\n",
      "will-xai-be-the-first-to-release-ag\n",
      "market not found\n",
      "will-arc-browser-on-windows-be-rele-ba99be710c8d\n",
      "market not found\n",
      "-the-premier-league-sack-race-0aaa99b72b5d\n",
      "market not found\n",
      "who-will-be-the-next-president-of-u-df9d699fe75e\n",
      "market not found\n",
      "how-much-physics-have-we-discovered\n",
      "market not found\n",
      "will-at-least-177-highprofile-names\n",
      "market not found\n",
      "will-manifold-add-a-loan-management\n",
      "market not found\n",
      "will-paintings-by-mark-rothko-fetch\n",
      "market not found\n",
      "will-the-uks-ftse-100-close-higher-9501c0050555\n",
      "market not found\n",
      "will-this-series-match-any-number-t-17a71a30ac99\n",
      "market not found\n",
      "will-the-decade-from-2020-through-t\n",
      "market not found\n",
      "i-am-about-to-speedrun-celeste-any\n",
      "market not found\n",
      "who-will-be-named-nfl-most-valuable\n",
      "market not found\n",
      "will-recep-tayyip-erdogan-stop-bein-68ae65da529d\n",
      "market not found\n",
      "will-this-series-match-any-number-t-9628a4aebd94\n",
      "market not found\n",
      "who-will-own-the-model-at-the-top-o-d32b40f4edc0\n",
      "market not found\n",
      "will-recep-tayyip-erdogan-stop-bein\n",
      "market not found\n",
      "will-auctions-at-christies-fetch-mo\n",
      "market not found\n",
      "which-team-will-be-the-leader-of-th\n",
      "market not found\n",
      "2023-one-piece-bingo\n",
      "market not found\n",
      "will-rick-and-mortys-justin-roiland-f47ecd87d4f1\n",
      "market not found\n",
      "will-the-sp-500-indexspinx-close-hi-0014fd27a862\n",
      "market not found\n",
      "will-rick-and-mortys-justin-roiland\n",
      "market not found\n",
      "will-the-sp-500-indexsp-inx-from-2p-e258a502b93b\n",
      "market not found\n",
      "will-the-sp-500-indexsp-inx-from-2p-379eda8cc8e0\n",
      "market not found\n",
      "will-the-sp-500-indexsp-inx-from-2p-d29b332f6d9e\n",
      "market not found\n",
      "will-the-sp-500-indexsp-inx-from-2p-ace362ae0493\n",
      "market not found\n",
      "stock-market-will-the-sp-500-index\n",
      "market not found\n",
      "how-many-people-joined-because-of-r\n",
      "market not found\n",
      "will-the-ishares-semiconductor-etf-cfe3a7df2835\n",
      "market not found\n",
      "will-the-ishares-semiconductor-etf-bb04338285b3\n",
      "market not found\n",
      "will-the-ishares-semiconductor-etf-30ea3ed1978b\n",
      "market not found\n",
      "will-the-ishares-semiconductor-etf-e80b35e15e93\n",
      "market not found\n",
      "daily-will-amzn-close-higher-on-dec\n",
      "market not found\n",
      "will-the-ishares-semiconductor-etf-d1e5bdfbfc15\n",
      "market not found\n",
      "daily-will-aapl-close-higher-on-dec\n",
      "market not found\n",
      "daily-will-goog-close-higher-on-dec\n",
      "market not found\n",
      "daily-will-msft-close-higher-on-dec\n",
      "market not found\n",
      "will-the-ishares-semiconductor-etf\n",
      "market not found\n",
      "daily-will-nvda-close-higher-on-dec\n",
      "market not found\n",
      "daily-will-lockheed-martin-lmt-clos\n",
      "market not found\n",
      "how-was-your-2023-year-relative-to\n",
      "market not found\n",
      "will-we-get-agi-before-july-1st-202\n",
      "market not found\n",
      "will-there-be-a-crewed-mission-to-s\n",
      "market not found\n",
      "will-there-be-a-crewed-mission-to-j\n",
      "market not found\n",
      "will-a-directed-energy-system-lift-ce9d89c6a57d\n",
      "market not found\n",
      "gpt4resolving-will-there-be-more-th-0415072834ee\n",
      "market not found\n",
      "efficient-full-homomorphic-encrypti\n",
      "market not found\n",
      "will-there-be-a-dyson-sphere-around-897d2cf9e325\n",
      "market not found\n",
      "will-the-us-become-a-presidential-d\n",
      "market not found\n",
      "will-there-be-a-crewed-mission-to-v\n",
      "market not found\n",
      "will-xi-jinping-be-the-leader-of-ch-6297433c3df1\n",
      "market not found\n",
      "will-kim-jong-un-be-the-leader-of-n-37fe12f0ac09\n",
      "market not found\n",
      "will-the-city-of-odessa-be-within-t\n",
      "market not found\n",
      "did-the-st-louis-police-actually-cr\n",
      "market not found\n",
      "will-huggingface-be-acquired-by-met\n",
      "market not found\n",
      "did-the-defuse-project-cause-the-co\n",
      "market not found\n",
      "will-deltarune-have-exactly-one-end\n",
      "market not found\n",
      "israel-will-begin-paying-jews-from\n",
      "market not found\n",
      "when-will-the-10th-drop-fall-in-the-5ed9ab133c54\n",
      "market not found\n",
      "will-a-third-game-in-the-ai-the-som\n",
      "market not found\n",
      "will-amazon-reach-an-ath-in-2024\n",
      "market not found\n",
      "who-will-be-the-next-first-minister-a02c9832cddb\n",
      "market not found\n",
      "will-alphabet-reach-an-ath-in-2024\n",
      "market not found\n",
      "will-an-llm-be-integrated-into-a-ma\n",
      "market not found\n",
      "which-party-will-control-the-arizon\n",
      "market not found\n",
      "will-grand-theft-auto-v-reach-a-new\n",
      "market not found\n",
      "will-there-be-a-niclear-war-before\n",
      "market not found\n",
      "will-manifold-be-fast-to-use-on-mob\n",
      "market not found\n",
      "what-is-the-probability-that-my-sec\n",
      "market not found\n",
      "metaculus-will-ukraine-sever-the-la\n",
      "market not found\n",
      "will-kjeld-nuis-win-the-1000m-speed\n",
      "market not found\n",
      "will-jutta-leerdam-win-the-1000m-sp\n",
      "market not found\n",
      "san-francisco-superior-court-judge-3aa33cf57c8f\n",
      "market not found\n",
      "san-francisco-superior-court-judge\n",
      "market not found\n",
      "incumbent-michael-i-begert-wins-san\n",
      "market not found\n",
      "will-the-vegas-golden-knights-beat-fcd89c586b50\n",
      "market not found\n",
      "will-the-st-louis-blues-beat-tampa\n",
      "market not found\n",
      "will-the-toronto-maple-leafs-beat-n-2cbf4e7949e9\n",
      "market not found\n",
      "will-the-edmonton-oilers-beat-new-y\n",
      "market not found\n",
      "will-i-lift-weights-today-30fd0ab14ade\n",
      "market not found\n",
      "link-to-a-jobs-board\n",
      "market not found\n",
      "nfl-week-16-dec-25-will-the-san-fra-c99432c5c53e\n",
      "market not found\n",
      "-d482c0c6da8a\n",
      "market not found\n",
      "relationship-of-shannon-toms-391187810ba5\n",
      "market not found\n",
      "will-carti-drop-the-album-music-in\n",
      "market not found\n",
      "will-tempurpedic-change-their-logo\n",
      "market not found\n",
      "will-the-goldbach-conjecture-be-fou\n",
      "market not found\n",
      "will-indonesia-move-their-capital-f\n",
      "market not found\n",
      "will-jj-mccarthy-return-to-college\n",
      "market not found\n",
      "will-any-officer-be-found-guilty-fo\n",
      "market not found\n",
      "how-many-video-game-adaptations-wil-05822d493b7b\n",
      "market not found\n",
      "when-will-war-on-ukraine-will-end\n",
      "market not found\n",
      "will-chat-gpt-5-be-released-before\n",
      "market not found\n",
      "will-betelgeuse-go-supernova-before\n",
      "market not found\n",
      "will-there-be-another-country-to-ac\n",
      "market not found\n",
      "will-humanity-deploy-any-new-techno\n",
      "market not found\n",
      "will-i-promote-to-masters-this-leag\n",
      "market not found\n",
      "could-ai-research-see-a-shift-in-fo\n",
      "market not found\n",
      "will-manifold-give-out-more-loans-l\n",
      "market not found\n",
      "if-a-player-casts-dress-down-with-o\n",
      "market not found\n",
      "-2023-ncaam-will-6-marquette-beat-p\n",
      "market not found\n",
      "-2023-ncaam-will-22-virginia-beat-2\n",
      "market not found\n",
      "who-will-be-the-next-speaker-of-the-2fb01830b53a\n",
      "market not found\n",
      "how-many-electoral-college-votes-wi-f089e6fd281d\n",
      "market not found\n",
      "will-i-top-the-gold-league-at-the-e\n",
      "market not found\n",
      "nippon-steel-acquires-us-steel\n",
      "market not found\n",
      "personal-subjective-will-facebook-f\n",
      "market not found\n",
      "how-many-aliens-does-manifold-think-97e8c471a7fc\n",
      "market not found\n",
      "will-costco-close-higher-dec-26-tha\n",
      "market not found\n",
      "will-walmart-close-higher-dec-26-th\n",
      "market not found\n",
      "is-chinas-economy-collapsing\n",
      "market not found\n",
      "will-target-close-higher-dec-26-tha\n",
      "market not found\n",
      "will-dollar-general-close-higher-de-15375c772aca\n",
      "market not found\n",
      "was-911-an-inside-job-acaa1163fb46\n",
      "market not found\n",
      "will-walgreens-close-higher-dec-26\n",
      "market not found\n",
      "will-the-december-18th-episode-of-k\n",
      "market not found\n",
      "weekly-will-lockheed-martin-lmt-clo\n",
      "market not found\n",
      "will-chris-prediction-over-private\n",
      "market not found\n",
      "was-jfk-shot-by-one-of-the-men-in-t\n",
      "market not found\n",
      "will-matan-hook-up-with-someone-new\n",
      "market not found\n",
      "will-my-video-the-year-without-rein\n",
      "market not found\n",
      "will-tom-holland-and-zendaya-break\n",
      "market not found\n",
      "will-tom-holland-and-zendaya-get-ma\n",
      "market not found\n",
      "what-will-be-true-of-caroling-taco\n",
      "market not found\n",
      "is-there-a-number-of-repetitions-fo\n",
      "market not found\n",
      "will-etchedai-launch-a-transformer\n",
      "market not found\n",
      "will-singleegress-be-legalized-in-c\n",
      "market not found\n",
      "relationship-of-katzis-adamsoughou\n",
      "market not found\n",
      "smartphone-having-two-identical-cam\n",
      "market not found\n",
      "what-songs-will-we-carol-at-taco-tu\n",
      "market not found\n",
      "would-it-be-better-if-the-public-is\n",
      "market not found\n",
      "at-the-end-of-the-myanmar-civil-war\n",
      "market not found\n",
      "which-studio-if-any-will-successful\n",
      "market not found\n",
      "will-nippon-steels-deal-to-acquire\n",
      "market not found\n",
      "will-the-next-mainline-kirby-game-b\n",
      "market not found\n",
      "what-will-destinys-next-manifesto-b-8c95624598fc\n",
      "market not found\n",
      "will-a-legend-of-zelda-themed-lego\n",
      "market not found\n",
      "what-will-destinys-next-manifesto-b\n",
      "market not found\n",
      "will-a-semiconductor-fabrication-pl\n",
      "market not found\n",
      "who-had-the-biggest-impact-on-the-c-87f445e0ae5b\n",
      "market not found\n",
      "what-will-the-next-popes-stance-on\n",
      "market not found\n",
      "will-a-theory-of-everything-be-foun\n",
      "market not found\n",
      "which-actor-to-replace-jonathan-maj\n",
      "market not found\n",
      "will-nuclear-fusion-become-a-viable\n",
      "market not found\n",
      "will-another-season-of-gravity-fall\n",
      "market not found\n",
      "which-nasdaq-stock-will-have-the-5t-7bbfdea9ab07\n",
      "market not found\n",
      "will-silver-close-higher-dec-18-tha-278a5a9db787\n",
      "market not found\n",
      "will-gold-close-higher-dec-19-than\n",
      "market not found\n",
      "will-platinum-close-higher-dec-19-t\n",
      "market not found\n",
      "will-usdcad-close-higher-dec-19-tha\n",
      "market not found\n",
      "nfl-week-17-will-the-houston-texans\n",
      "market not found\n",
      "nfl-week-17-will-the-miami-dolphins\n",
      "market not found\n",
      "will-there-be-any-one-transmission\n",
      "market not found\n",
      "there-are-no-usa-presidents-that-ha\n",
      "market not found\n",
      "nfl-week-17-will-the-jacksonville-j\n",
      "market not found\n"
     ]
    }
   ],
   "source": [
    "response = requests.get(\"https://api.manifold.markets/v0/markets?limit=500\")\n",
    "results = response.json()\n",
    "market_text = []\n",
    "for market in results:\n",
    "    print(market['slug'])\n",
    "    my_slug = market['slug']\n",
    "\n",
    "    try:\n",
    "        market_text.append(market_text_representation(my_slug))\n",
    "    except:\n",
    "         print(\"market not found\")\n",
    "    # try: \n",
    "    #     my_market = mp.api.get_slug(my_slug)\n",
    "    # except:\n",
    "    #     print(\"market not found\")\n",
    "    #     continue\n",
    "    # tags = mp.api.get_full_market(my_market.id).tags"
   ]
  },
  {
   "cell_type": "code",
   "execution_count": 7,
   "metadata": {},
   "outputs": [
    {
     "ename": "TypeError",
     "evalue": "Make sure that the iterable only contains strings.",
     "output_type": "error",
     "traceback": [
      "\u001b[0;31m---------------------------------------------------------------------------\u001b[0m",
      "\u001b[0;31mTypeError\u001b[0m                                 Traceback (most recent call last)",
      "Cell \u001b[0;32mIn[7], line 11\u001b[0m\n\u001b[1;32m      7\u001b[0m ctfidf_model \u001b[38;5;241m=\u001b[39m ClassTfidfTransformer(reduce_frequent_words\u001b[38;5;241m=\u001b[39m\u001b[38;5;28;01mTrue\u001b[39;00m)\n\u001b[1;32m     10\u001b[0m topic_model \u001b[38;5;241m=\u001b[39m BERTopic(ctfidf_model\u001b[38;5;241m=\u001b[39mctfidf_model,vectorizer_model\u001b[38;5;241m=\u001b[39mvectorizer_model,representation_model\u001b[38;5;241m=\u001b[39mrepresentation_model)\n\u001b[0;32m---> 11\u001b[0m topics, pros \u001b[38;5;241m=\u001b[39m \u001b[43mtopic_model\u001b[49m\u001b[38;5;241;43m.\u001b[39;49m\u001b[43mfit_transform\u001b[49m\u001b[43m(\u001b[49m\u001b[43mmarket_text\u001b[49m\u001b[43m)\u001b[49m\n",
      "File \u001b[0;32m~/miniconda3/envs/beleif-blender/lib/python3.8/site-packages/bertopic/_bertopic.py:373\u001b[0m, in \u001b[0;36mBERTopic.fit_transform\u001b[0;34m(self, documents, embeddings, images, y)\u001b[0m\n\u001b[1;32m    325\u001b[0m \u001b[38;5;250m\u001b[39m\u001b[38;5;124;03m\"\"\" Fit the models on a collection of documents, generate topics,\u001b[39;00m\n\u001b[1;32m    326\u001b[0m \u001b[38;5;124;03mand return the probabilities and topic per document.\u001b[39;00m\n\u001b[1;32m    327\u001b[0m \n\u001b[0;32m   (...)\u001b[0m\n\u001b[1;32m    370\u001b[0m \u001b[38;5;124;03m```\u001b[39;00m\n\u001b[1;32m    371\u001b[0m \u001b[38;5;124;03m\"\"\"\u001b[39;00m\n\u001b[1;32m    372\u001b[0m \u001b[38;5;28;01mif\u001b[39;00m documents \u001b[38;5;129;01mis\u001b[39;00m \u001b[38;5;129;01mnot\u001b[39;00m \u001b[38;5;28;01mNone\u001b[39;00m:\n\u001b[0;32m--> 373\u001b[0m     \u001b[43mcheck_documents_type\u001b[49m\u001b[43m(\u001b[49m\u001b[43mdocuments\u001b[49m\u001b[43m)\u001b[49m\n\u001b[1;32m    374\u001b[0m     check_embeddings_shape(embeddings, documents)\n\u001b[1;32m    376\u001b[0m doc_ids \u001b[38;5;241m=\u001b[39m \u001b[38;5;28mrange\u001b[39m(\u001b[38;5;28mlen\u001b[39m(documents)) \u001b[38;5;28;01mif\u001b[39;00m documents \u001b[38;5;129;01mis\u001b[39;00m \u001b[38;5;129;01mnot\u001b[39;00m \u001b[38;5;28;01mNone\u001b[39;00m \u001b[38;5;28;01melse\u001b[39;00m \u001b[38;5;28mrange\u001b[39m(\u001b[38;5;28mlen\u001b[39m(images))\n",
      "File \u001b[0;32m~/miniconda3/envs/beleif-blender/lib/python3.8/site-packages/bertopic/_utils.py:43\u001b[0m, in \u001b[0;36mcheck_documents_type\u001b[0;34m(documents)\u001b[0m\n\u001b[1;32m     41\u001b[0m \u001b[38;5;28;01melif\u001b[39;00m \u001b[38;5;28misinstance\u001b[39m(documents, Iterable) \u001b[38;5;129;01mand\u001b[39;00m \u001b[38;5;129;01mnot\u001b[39;00m \u001b[38;5;28misinstance\u001b[39m(documents, \u001b[38;5;28mstr\u001b[39m):\n\u001b[1;32m     42\u001b[0m     \u001b[38;5;28;01mif\u001b[39;00m \u001b[38;5;129;01mnot\u001b[39;00m \u001b[38;5;28many\u001b[39m([\u001b[38;5;28misinstance\u001b[39m(doc, \u001b[38;5;28mstr\u001b[39m) \u001b[38;5;28;01mfor\u001b[39;00m doc \u001b[38;5;129;01min\u001b[39;00m documents]):\n\u001b[0;32m---> 43\u001b[0m         \u001b[38;5;28;01mraise\u001b[39;00m \u001b[38;5;167;01mTypeError\u001b[39;00m(\u001b[38;5;124m\"\u001b[39m\u001b[38;5;124mMake sure that the iterable only contains strings.\u001b[39m\u001b[38;5;124m\"\u001b[39m)\n\u001b[1;32m     44\u001b[0m \u001b[38;5;28;01melse\u001b[39;00m:\n\u001b[1;32m     45\u001b[0m     \u001b[38;5;28;01mraise\u001b[39;00m \u001b[38;5;167;01mTypeError\u001b[39;00m(\u001b[38;5;124m\"\u001b[39m\u001b[38;5;124mMake sure that the documents variable is an iterable containing strings only.\u001b[39m\u001b[38;5;124m\"\u001b[39m)\n",
      "\u001b[0;31mTypeError\u001b[0m: Make sure that the iterable only contains strings."
     ]
    }
   ],
   "source": [
    "\n",
    "from sklearn.feature_extraction.text import CountVectorizer\n",
    "from bertopic.vectorizers import ClassTfidfTransformer\n",
    "from bertopic.representation import KeyBERTInspired\n",
    "\n",
    "representation_model = KeyBERTInspired()\n",
    "vectorizer_model = CountVectorizer(stop_words=\"english\")\n",
    "ctfidf_model = ClassTfidfTransformer(reduce_frequent_words=True)\n",
    "\n",
    "\n",
    "topic_model = BERTopic(ctfidf_model=ctfidf_model,vectorizer_model=vectorizer_model,representation_model=representation_model)\n",
    "topics, pros = topic_model.fit_transform(market_text)"
   ]
  },
  {
   "cell_type": "code",
   "execution_count": null,
   "metadata": {},
   "outputs": [
    {
     "ename": "ValueError",
     "evalue": "Mime type rendering requires nbformat>=4.2.0 but it is not installed",
     "output_type": "error",
     "traceback": [
      "\u001b[0;31m---------------------------------------------------------------------------\u001b[0m",
      "\u001b[0;31mValueError\u001b[0m                                Traceback (most recent call last)",
      "File \u001b[0;32m~/miniconda3/envs/beleif-blender/lib/python3.8/site-packages/IPython/core/formatters.py:922\u001b[0m, in \u001b[0;36mIPythonDisplayFormatter.__call__\u001b[0;34m(self, obj)\u001b[0m\n\u001b[1;32m    920\u001b[0m method \u001b[38;5;241m=\u001b[39m get_real_method(obj, \u001b[38;5;28mself\u001b[39m\u001b[38;5;241m.\u001b[39mprint_method)\n\u001b[1;32m    921\u001b[0m \u001b[38;5;28;01mif\u001b[39;00m method \u001b[38;5;129;01mis\u001b[39;00m \u001b[38;5;129;01mnot\u001b[39;00m \u001b[38;5;28;01mNone\u001b[39;00m:\n\u001b[0;32m--> 922\u001b[0m     \u001b[43mmethod\u001b[49m\u001b[43m(\u001b[49m\u001b[43m)\u001b[49m\n\u001b[1;32m    923\u001b[0m     \u001b[38;5;28;01mreturn\u001b[39;00m \u001b[38;5;28;01mTrue\u001b[39;00m\n",
      "File \u001b[0;32m~/miniconda3/envs/beleif-blender/lib/python3.8/site-packages/plotly/basedatatypes.py:832\u001b[0m, in \u001b[0;36mBaseFigure._ipython_display_\u001b[0;34m(self)\u001b[0m\n\u001b[1;32m    829\u001b[0m \u001b[38;5;28;01mimport\u001b[39;00m \u001b[38;5;21;01mplotly\u001b[39;00m\u001b[38;5;21;01m.\u001b[39;00m\u001b[38;5;21;01mio\u001b[39;00m \u001b[38;5;28;01mas\u001b[39;00m \u001b[38;5;21;01mpio\u001b[39;00m\n\u001b[1;32m    831\u001b[0m \u001b[38;5;28;01mif\u001b[39;00m pio\u001b[38;5;241m.\u001b[39mrenderers\u001b[38;5;241m.\u001b[39mrender_on_display \u001b[38;5;129;01mand\u001b[39;00m pio\u001b[38;5;241m.\u001b[39mrenderers\u001b[38;5;241m.\u001b[39mdefault:\n\u001b[0;32m--> 832\u001b[0m     \u001b[43mpio\u001b[49m\u001b[38;5;241;43m.\u001b[39;49m\u001b[43mshow\u001b[49m\u001b[43m(\u001b[49m\u001b[38;5;28;43mself\u001b[39;49m\u001b[43m)\u001b[49m\n\u001b[1;32m    833\u001b[0m \u001b[38;5;28;01melse\u001b[39;00m:\n\u001b[1;32m    834\u001b[0m     \u001b[38;5;28mprint\u001b[39m(\u001b[38;5;28mrepr\u001b[39m(\u001b[38;5;28mself\u001b[39m))\n",
      "File \u001b[0;32m~/miniconda3/envs/beleif-blender/lib/python3.8/site-packages/plotly/io/_renderers.py:394\u001b[0m, in \u001b[0;36mshow\u001b[0;34m(fig, renderer, validate, **kwargs)\u001b[0m\n\u001b[1;32m    389\u001b[0m         \u001b[38;5;28;01mraise\u001b[39;00m \u001b[38;5;167;01mValueError\u001b[39;00m(\n\u001b[1;32m    390\u001b[0m             \u001b[38;5;124m\"\u001b[39m\u001b[38;5;124mMime type rendering requires ipython but it is not installed\u001b[39m\u001b[38;5;124m\"\u001b[39m\n\u001b[1;32m    391\u001b[0m         )\n\u001b[1;32m    393\u001b[0m     \u001b[38;5;28;01mif\u001b[39;00m \u001b[38;5;129;01mnot\u001b[39;00m nbformat \u001b[38;5;129;01mor\u001b[39;00m Version(nbformat\u001b[38;5;241m.\u001b[39m__version__) \u001b[38;5;241m<\u001b[39m Version(\u001b[38;5;124m\"\u001b[39m\u001b[38;5;124m4.2.0\u001b[39m\u001b[38;5;124m\"\u001b[39m):\n\u001b[0;32m--> 394\u001b[0m         \u001b[38;5;28;01mraise\u001b[39;00m \u001b[38;5;167;01mValueError\u001b[39;00m(\n\u001b[1;32m    395\u001b[0m             \u001b[38;5;124m\"\u001b[39m\u001b[38;5;124mMime type rendering requires nbformat>=4.2.0 but it is not installed\u001b[39m\u001b[38;5;124m\"\u001b[39m\n\u001b[1;32m    396\u001b[0m         )\n\u001b[1;32m    398\u001b[0m     ipython_display\u001b[38;5;241m.\u001b[39mdisplay(bundle, raw\u001b[38;5;241m=\u001b[39m\u001b[38;5;28;01mTrue\u001b[39;00m)\n\u001b[1;32m    400\u001b[0m \u001b[38;5;66;03m# external renderers\u001b[39;00m\n",
      "\u001b[0;31mValueError\u001b[0m: Mime type rendering requires nbformat>=4.2.0 but it is not installed"
     ]
    },
    {
     "data": {
      "application/vnd.plotly.v1+json": {
       "config": {
        "plotlyServerURL": "https://plot.ly"
       },
       "data": [
        {
         "customdata": [
          [
           0,
           "candidate | presidential | 2024 | electoral | 2020",
           46
          ],
          [
           1,
           "2028 | 2030 | 2024 | releases | theaters",
           36
          ],
          [
           2,
           "closing | nasdaq | closes | markets | stock",
           31
          ],
          [
           3,
           "promote | sale | buy | prices | ideas",
           29
          ],
          [
           4,
           "crimea | treaty | coalition | nato | ukraine",
           26
          ],
          [
           5,
           "betting | trading | close | nfl | kickoff",
           26
          ],
          [
           6,
           "closing | closes | markets | december | closed",
           22
          ],
          [
           7,
           "agi | ai | asi | 2025 | 2024",
           21
          ],
          [
           8,
           "tottenham | burnley | bournemouth | everton | arsenal",
           15
          ],
          [
           9,
           "milestones | milestone | date | relationship | dating",
           15
          ],
          [
           10,
           "closing | closes | market | december | markets",
           14
          ],
          [
           11,
           "closing | closes | closed | december | market",
           13
          ],
          [
           12,
           "market | markets | closing | closes | sircryptomind",
           11
          ]
         ],
         "hovertemplate": "<b>Topic %{customdata[0]}</b><br>%{customdata[1]}<br>Size: %{customdata[2]}",
         "legendgroup": "",
         "marker": {
          "color": "#B0BEC5",
          "line": {
           "color": "DarkSlateGrey",
           "width": 2
          },
          "size": [
           46,
           36,
           31,
           29,
           26,
           26,
           22,
           21,
           15,
           15,
           14,
           13,
           11
          ],
          "sizemode": "area",
          "sizeref": 0.02875,
          "symbol": "circle"
         },
         "mode": "markers",
         "name": "",
         "orientation": "v",
         "showlegend": false,
         "type": "scatter",
         "x": [
          1.5054274797439575,
          2.040170669555664,
          1.8394302129745483,
          1.6209654808044434,
          1.8776386976242065,
          0.8460438251495361,
          2.3092544078826904,
          2.461420774459839,
          0.7650040984153748,
          1.2750555276870728,
          2.708289384841919,
          1.342797875404358,
          2.1212832927703857
         ],
         "xaxis": "x",
         "y": [
          13.466110229492188,
          12.640276908874512,
          22.237728118896484,
          12.03553581237793,
          13.159152030944824,
          -2.091081142425537,
          22.322927474975586,
          12.432754516601562,
          -2.172083616256714,
          11.612628936767578,
          22.609182357788086,
          22.13686180114746,
          22.866222381591797
         ],
         "yaxis": "y"
        }
       ],
       "layout": {
        "annotations": [
         {
          "showarrow": false,
          "text": "D1",
          "x": 0.6502534836530686,
          "y": 11.899129790067674,
          "yshift": 10
         },
         {
          "showarrow": false,
          "text": "D2",
          "x": 1.8823931381106376,
          "xshift": 10,
          "y": 26.296155738830567
         }
        ],
        "height": 650,
        "hoverlabel": {
         "bgcolor": "white",
         "font": {
          "family": "Rockwell",
          "size": 16
         }
        },
        "legend": {
         "itemsizing": "constant",
         "tracegroupgap": 0
        },
        "margin": {
         "t": 60
        },
        "shapes": [
         {
          "line": {
           "color": "#CFD8DC",
           "width": 2
          },
          "type": "line",
          "x0": 1.8823931381106376,
          "x1": 1.8823931381106376,
          "y0": -2.497896158695221,
          "y1": 26.296155738830567
         },
         {
          "line": {
           "color": "#9E9E9E",
           "width": 2
          },
          "type": "line",
          "x0": 0.6502534836530686,
          "x1": 3.1145327925682067,
          "y0": 11.899129790067674,
          "y1": 11.899129790067674
         }
        ],
        "sliders": [
         {
          "active": 0,
          "pad": {
           "t": 50
          },
          "steps": [
           {
            "args": [
             {
              "marker.color": [
               [
                "red",
                "#B0BEC5",
                "#B0BEC5",
                "#B0BEC5",
                "#B0BEC5",
                "#B0BEC5",
                "#B0BEC5",
                "#B0BEC5",
                "#B0BEC5",
                "#B0BEC5",
                "#B0BEC5",
                "#B0BEC5",
                "#B0BEC5"
               ]
              ]
             }
            ],
            "label": "Topic 0",
            "method": "update"
           },
           {
            "args": [
             {
              "marker.color": [
               [
                "#B0BEC5",
                "red",
                "#B0BEC5",
                "#B0BEC5",
                "#B0BEC5",
                "#B0BEC5",
                "#B0BEC5",
                "#B0BEC5",
                "#B0BEC5",
                "#B0BEC5",
                "#B0BEC5",
                "#B0BEC5",
                "#B0BEC5"
               ]
              ]
             }
            ],
            "label": "Topic 1",
            "method": "update"
           },
           {
            "args": [
             {
              "marker.color": [
               [
                "#B0BEC5",
                "#B0BEC5",
                "red",
                "#B0BEC5",
                "#B0BEC5",
                "#B0BEC5",
                "#B0BEC5",
                "#B0BEC5",
                "#B0BEC5",
                "#B0BEC5",
                "#B0BEC5",
                "#B0BEC5",
                "#B0BEC5"
               ]
              ]
             }
            ],
            "label": "Topic 2",
            "method": "update"
           },
           {
            "args": [
             {
              "marker.color": [
               [
                "#B0BEC5",
                "#B0BEC5",
                "#B0BEC5",
                "red",
                "#B0BEC5",
                "#B0BEC5",
                "#B0BEC5",
                "#B0BEC5",
                "#B0BEC5",
                "#B0BEC5",
                "#B0BEC5",
                "#B0BEC5",
                "#B0BEC5"
               ]
              ]
             }
            ],
            "label": "Topic 3",
            "method": "update"
           },
           {
            "args": [
             {
              "marker.color": [
               [
                "#B0BEC5",
                "#B0BEC5",
                "#B0BEC5",
                "#B0BEC5",
                "red",
                "#B0BEC5",
                "#B0BEC5",
                "#B0BEC5",
                "#B0BEC5",
                "#B0BEC5",
                "#B0BEC5",
                "#B0BEC5",
                "#B0BEC5"
               ]
              ]
             }
            ],
            "label": "Topic 4",
            "method": "update"
           },
           {
            "args": [
             {
              "marker.color": [
               [
                "#B0BEC5",
                "#B0BEC5",
                "#B0BEC5",
                "#B0BEC5",
                "#B0BEC5",
                "red",
                "#B0BEC5",
                "#B0BEC5",
                "#B0BEC5",
                "#B0BEC5",
                "#B0BEC5",
                "#B0BEC5",
                "#B0BEC5"
               ]
              ]
             }
            ],
            "label": "Topic 5",
            "method": "update"
           },
           {
            "args": [
             {
              "marker.color": [
               [
                "#B0BEC5",
                "#B0BEC5",
                "#B0BEC5",
                "#B0BEC5",
                "#B0BEC5",
                "#B0BEC5",
                "red",
                "#B0BEC5",
                "#B0BEC5",
                "#B0BEC5",
                "#B0BEC5",
                "#B0BEC5",
                "#B0BEC5"
               ]
              ]
             }
            ],
            "label": "Topic 6",
            "method": "update"
           },
           {
            "args": [
             {
              "marker.color": [
               [
                "#B0BEC5",
                "#B0BEC5",
                "#B0BEC5",
                "#B0BEC5",
                "#B0BEC5",
                "#B0BEC5",
                "#B0BEC5",
                "red",
                "#B0BEC5",
                "#B0BEC5",
                "#B0BEC5",
                "#B0BEC5",
                "#B0BEC5"
               ]
              ]
             }
            ],
            "label": "Topic 7",
            "method": "update"
           },
           {
            "args": [
             {
              "marker.color": [
               [
                "#B0BEC5",
                "#B0BEC5",
                "#B0BEC5",
                "#B0BEC5",
                "#B0BEC5",
                "#B0BEC5",
                "#B0BEC5",
                "#B0BEC5",
                "red",
                "#B0BEC5",
                "#B0BEC5",
                "#B0BEC5",
                "#B0BEC5"
               ]
              ]
             }
            ],
            "label": "Topic 8",
            "method": "update"
           },
           {
            "args": [
             {
              "marker.color": [
               [
                "#B0BEC5",
                "#B0BEC5",
                "#B0BEC5",
                "#B0BEC5",
                "#B0BEC5",
                "#B0BEC5",
                "#B0BEC5",
                "#B0BEC5",
                "#B0BEC5",
                "red",
                "#B0BEC5",
                "#B0BEC5",
                "#B0BEC5"
               ]
              ]
             }
            ],
            "label": "Topic 9",
            "method": "update"
           },
           {
            "args": [
             {
              "marker.color": [
               [
                "#B0BEC5",
                "#B0BEC5",
                "#B0BEC5",
                "#B0BEC5",
                "#B0BEC5",
                "#B0BEC5",
                "#B0BEC5",
                "#B0BEC5",
                "#B0BEC5",
                "#B0BEC5",
                "red",
                "#B0BEC5",
                "#B0BEC5"
               ]
              ]
             }
            ],
            "label": "Topic 10",
            "method": "update"
           },
           {
            "args": [
             {
              "marker.color": [
               [
                "#B0BEC5",
                "#B0BEC5",
                "#B0BEC5",
                "#B0BEC5",
                "#B0BEC5",
                "#B0BEC5",
                "#B0BEC5",
                "#B0BEC5",
                "#B0BEC5",
                "#B0BEC5",
                "#B0BEC5",
                "red",
                "#B0BEC5"
               ]
              ]
             }
            ],
            "label": "Topic 11",
            "method": "update"
           },
           {
            "args": [
             {
              "marker.color": [
               [
                "#B0BEC5",
                "#B0BEC5",
                "#B0BEC5",
                "#B0BEC5",
                "#B0BEC5",
                "#B0BEC5",
                "#B0BEC5",
                "#B0BEC5",
                "#B0BEC5",
                "#B0BEC5",
                "#B0BEC5",
                "#B0BEC5",
                "red"
               ]
              ]
             }
            ],
            "label": "Topic 12",
            "method": "update"
           }
          ]
         }
        ],
        "template": {
         "data": {
          "bar": [
           {
            "error_x": {
             "color": "rgb(36,36,36)"
            },
            "error_y": {
             "color": "rgb(36,36,36)"
            },
            "marker": {
             "line": {
              "color": "white",
              "width": 0.5
             },
             "pattern": {
              "fillmode": "overlay",
              "size": 10,
              "solidity": 0.2
             }
            },
            "type": "bar"
           }
          ],
          "barpolar": [
           {
            "marker": {
             "line": {
              "color": "white",
              "width": 0.5
             },
             "pattern": {
              "fillmode": "overlay",
              "size": 10,
              "solidity": 0.2
             }
            },
            "type": "barpolar"
           }
          ],
          "carpet": [
           {
            "aaxis": {
             "endlinecolor": "rgb(36,36,36)",
             "gridcolor": "white",
             "linecolor": "white",
             "minorgridcolor": "white",
             "startlinecolor": "rgb(36,36,36)"
            },
            "baxis": {
             "endlinecolor": "rgb(36,36,36)",
             "gridcolor": "white",
             "linecolor": "white",
             "minorgridcolor": "white",
             "startlinecolor": "rgb(36,36,36)"
            },
            "type": "carpet"
           }
          ],
          "choropleth": [
           {
            "colorbar": {
             "outlinewidth": 1,
             "tickcolor": "rgb(36,36,36)",
             "ticks": "outside"
            },
            "type": "choropleth"
           }
          ],
          "contour": [
           {
            "colorbar": {
             "outlinewidth": 1,
             "tickcolor": "rgb(36,36,36)",
             "ticks": "outside"
            },
            "colorscale": [
             [
              0,
              "#440154"
             ],
             [
              0.1111111111111111,
              "#482878"
             ],
             [
              0.2222222222222222,
              "#3e4989"
             ],
             [
              0.3333333333333333,
              "#31688e"
             ],
             [
              0.4444444444444444,
              "#26828e"
             ],
             [
              0.5555555555555556,
              "#1f9e89"
             ],
             [
              0.6666666666666666,
              "#35b779"
             ],
             [
              0.7777777777777778,
              "#6ece58"
             ],
             [
              0.8888888888888888,
              "#b5de2b"
             ],
             [
              1,
              "#fde725"
             ]
            ],
            "type": "contour"
           }
          ],
          "contourcarpet": [
           {
            "colorbar": {
             "outlinewidth": 1,
             "tickcolor": "rgb(36,36,36)",
             "ticks": "outside"
            },
            "type": "contourcarpet"
           }
          ],
          "heatmap": [
           {
            "colorbar": {
             "outlinewidth": 1,
             "tickcolor": "rgb(36,36,36)",
             "ticks": "outside"
            },
            "colorscale": [
             [
              0,
              "#440154"
             ],
             [
              0.1111111111111111,
              "#482878"
             ],
             [
              0.2222222222222222,
              "#3e4989"
             ],
             [
              0.3333333333333333,
              "#31688e"
             ],
             [
              0.4444444444444444,
              "#26828e"
             ],
             [
              0.5555555555555556,
              "#1f9e89"
             ],
             [
              0.6666666666666666,
              "#35b779"
             ],
             [
              0.7777777777777778,
              "#6ece58"
             ],
             [
              0.8888888888888888,
              "#b5de2b"
             ],
             [
              1,
              "#fde725"
             ]
            ],
            "type": "heatmap"
           }
          ],
          "heatmapgl": [
           {
            "colorbar": {
             "outlinewidth": 1,
             "tickcolor": "rgb(36,36,36)",
             "ticks": "outside"
            },
            "colorscale": [
             [
              0,
              "#440154"
             ],
             [
              0.1111111111111111,
              "#482878"
             ],
             [
              0.2222222222222222,
              "#3e4989"
             ],
             [
              0.3333333333333333,
              "#31688e"
             ],
             [
              0.4444444444444444,
              "#26828e"
             ],
             [
              0.5555555555555556,
              "#1f9e89"
             ],
             [
              0.6666666666666666,
              "#35b779"
             ],
             [
              0.7777777777777778,
              "#6ece58"
             ],
             [
              0.8888888888888888,
              "#b5de2b"
             ],
             [
              1,
              "#fde725"
             ]
            ],
            "type": "heatmapgl"
           }
          ],
          "histogram": [
           {
            "marker": {
             "line": {
              "color": "white",
              "width": 0.6
             }
            },
            "type": "histogram"
           }
          ],
          "histogram2d": [
           {
            "colorbar": {
             "outlinewidth": 1,
             "tickcolor": "rgb(36,36,36)",
             "ticks": "outside"
            },
            "colorscale": [
             [
              0,
              "#440154"
             ],
             [
              0.1111111111111111,
              "#482878"
             ],
             [
              0.2222222222222222,
              "#3e4989"
             ],
             [
              0.3333333333333333,
              "#31688e"
             ],
             [
              0.4444444444444444,
              "#26828e"
             ],
             [
              0.5555555555555556,
              "#1f9e89"
             ],
             [
              0.6666666666666666,
              "#35b779"
             ],
             [
              0.7777777777777778,
              "#6ece58"
             ],
             [
              0.8888888888888888,
              "#b5de2b"
             ],
             [
              1,
              "#fde725"
             ]
            ],
            "type": "histogram2d"
           }
          ],
          "histogram2dcontour": [
           {
            "colorbar": {
             "outlinewidth": 1,
             "tickcolor": "rgb(36,36,36)",
             "ticks": "outside"
            },
            "colorscale": [
             [
              0,
              "#440154"
             ],
             [
              0.1111111111111111,
              "#482878"
             ],
             [
              0.2222222222222222,
              "#3e4989"
             ],
             [
              0.3333333333333333,
              "#31688e"
             ],
             [
              0.4444444444444444,
              "#26828e"
             ],
             [
              0.5555555555555556,
              "#1f9e89"
             ],
             [
              0.6666666666666666,
              "#35b779"
             ],
             [
              0.7777777777777778,
              "#6ece58"
             ],
             [
              0.8888888888888888,
              "#b5de2b"
             ],
             [
              1,
              "#fde725"
             ]
            ],
            "type": "histogram2dcontour"
           }
          ],
          "mesh3d": [
           {
            "colorbar": {
             "outlinewidth": 1,
             "tickcolor": "rgb(36,36,36)",
             "ticks": "outside"
            },
            "type": "mesh3d"
           }
          ],
          "parcoords": [
           {
            "line": {
             "colorbar": {
              "outlinewidth": 1,
              "tickcolor": "rgb(36,36,36)",
              "ticks": "outside"
             }
            },
            "type": "parcoords"
           }
          ],
          "pie": [
           {
            "automargin": true,
            "type": "pie"
           }
          ],
          "scatter": [
           {
            "fillpattern": {
             "fillmode": "overlay",
             "size": 10,
             "solidity": 0.2
            },
            "type": "scatter"
           }
          ],
          "scatter3d": [
           {
            "line": {
             "colorbar": {
              "outlinewidth": 1,
              "tickcolor": "rgb(36,36,36)",
              "ticks": "outside"
             }
            },
            "marker": {
             "colorbar": {
              "outlinewidth": 1,
              "tickcolor": "rgb(36,36,36)",
              "ticks": "outside"
             }
            },
            "type": "scatter3d"
           }
          ],
          "scattercarpet": [
           {
            "marker": {
             "colorbar": {
              "outlinewidth": 1,
              "tickcolor": "rgb(36,36,36)",
              "ticks": "outside"
             }
            },
            "type": "scattercarpet"
           }
          ],
          "scattergeo": [
           {
            "marker": {
             "colorbar": {
              "outlinewidth": 1,
              "tickcolor": "rgb(36,36,36)",
              "ticks": "outside"
             }
            },
            "type": "scattergeo"
           }
          ],
          "scattergl": [
           {
            "marker": {
             "colorbar": {
              "outlinewidth": 1,
              "tickcolor": "rgb(36,36,36)",
              "ticks": "outside"
             }
            },
            "type": "scattergl"
           }
          ],
          "scattermapbox": [
           {
            "marker": {
             "colorbar": {
              "outlinewidth": 1,
              "tickcolor": "rgb(36,36,36)",
              "ticks": "outside"
             }
            },
            "type": "scattermapbox"
           }
          ],
          "scatterpolar": [
           {
            "marker": {
             "colorbar": {
              "outlinewidth": 1,
              "tickcolor": "rgb(36,36,36)",
              "ticks": "outside"
             }
            },
            "type": "scatterpolar"
           }
          ],
          "scatterpolargl": [
           {
            "marker": {
             "colorbar": {
              "outlinewidth": 1,
              "tickcolor": "rgb(36,36,36)",
              "ticks": "outside"
             }
            },
            "type": "scatterpolargl"
           }
          ],
          "scatterternary": [
           {
            "marker": {
             "colorbar": {
              "outlinewidth": 1,
              "tickcolor": "rgb(36,36,36)",
              "ticks": "outside"
             }
            },
            "type": "scatterternary"
           }
          ],
          "surface": [
           {
            "colorbar": {
             "outlinewidth": 1,
             "tickcolor": "rgb(36,36,36)",
             "ticks": "outside"
            },
            "colorscale": [
             [
              0,
              "#440154"
             ],
             [
              0.1111111111111111,
              "#482878"
             ],
             [
              0.2222222222222222,
              "#3e4989"
             ],
             [
              0.3333333333333333,
              "#31688e"
             ],
             [
              0.4444444444444444,
              "#26828e"
             ],
             [
              0.5555555555555556,
              "#1f9e89"
             ],
             [
              0.6666666666666666,
              "#35b779"
             ],
             [
              0.7777777777777778,
              "#6ece58"
             ],
             [
              0.8888888888888888,
              "#b5de2b"
             ],
             [
              1,
              "#fde725"
             ]
            ],
            "type": "surface"
           }
          ],
          "table": [
           {
            "cells": {
             "fill": {
              "color": "rgb(237,237,237)"
             },
             "line": {
              "color": "white"
             }
            },
            "header": {
             "fill": {
              "color": "rgb(217,217,217)"
             },
             "line": {
              "color": "white"
             }
            },
            "type": "table"
           }
          ]
         },
         "layout": {
          "annotationdefaults": {
           "arrowhead": 0,
           "arrowwidth": 1
          },
          "autotypenumbers": "strict",
          "coloraxis": {
           "colorbar": {
            "outlinewidth": 1,
            "tickcolor": "rgb(36,36,36)",
            "ticks": "outside"
           }
          },
          "colorscale": {
           "diverging": [
            [
             0,
             "rgb(103,0,31)"
            ],
            [
             0.1,
             "rgb(178,24,43)"
            ],
            [
             0.2,
             "rgb(214,96,77)"
            ],
            [
             0.3,
             "rgb(244,165,130)"
            ],
            [
             0.4,
             "rgb(253,219,199)"
            ],
            [
             0.5,
             "rgb(247,247,247)"
            ],
            [
             0.6,
             "rgb(209,229,240)"
            ],
            [
             0.7,
             "rgb(146,197,222)"
            ],
            [
             0.8,
             "rgb(67,147,195)"
            ],
            [
             0.9,
             "rgb(33,102,172)"
            ],
            [
             1,
             "rgb(5,48,97)"
            ]
           ],
           "sequential": [
            [
             0,
             "#440154"
            ],
            [
             0.1111111111111111,
             "#482878"
            ],
            [
             0.2222222222222222,
             "#3e4989"
            ],
            [
             0.3333333333333333,
             "#31688e"
            ],
            [
             0.4444444444444444,
             "#26828e"
            ],
            [
             0.5555555555555556,
             "#1f9e89"
            ],
            [
             0.6666666666666666,
             "#35b779"
            ],
            [
             0.7777777777777778,
             "#6ece58"
            ],
            [
             0.8888888888888888,
             "#b5de2b"
            ],
            [
             1,
             "#fde725"
            ]
           ],
           "sequentialminus": [
            [
             0,
             "#440154"
            ],
            [
             0.1111111111111111,
             "#482878"
            ],
            [
             0.2222222222222222,
             "#3e4989"
            ],
            [
             0.3333333333333333,
             "#31688e"
            ],
            [
             0.4444444444444444,
             "#26828e"
            ],
            [
             0.5555555555555556,
             "#1f9e89"
            ],
            [
             0.6666666666666666,
             "#35b779"
            ],
            [
             0.7777777777777778,
             "#6ece58"
            ],
            [
             0.8888888888888888,
             "#b5de2b"
            ],
            [
             1,
             "#fde725"
            ]
           ]
          },
          "colorway": [
           "#1F77B4",
           "#FF7F0E",
           "#2CA02C",
           "#D62728",
           "#9467BD",
           "#8C564B",
           "#E377C2",
           "#7F7F7F",
           "#BCBD22",
           "#17BECF"
          ],
          "font": {
           "color": "rgb(36,36,36)"
          },
          "geo": {
           "bgcolor": "white",
           "lakecolor": "white",
           "landcolor": "white",
           "showlakes": true,
           "showland": true,
           "subunitcolor": "white"
          },
          "hoverlabel": {
           "align": "left"
          },
          "hovermode": "closest",
          "mapbox": {
           "style": "light"
          },
          "paper_bgcolor": "white",
          "plot_bgcolor": "white",
          "polar": {
           "angularaxis": {
            "gridcolor": "rgb(232,232,232)",
            "linecolor": "rgb(36,36,36)",
            "showgrid": false,
            "showline": true,
            "ticks": "outside"
           },
           "bgcolor": "white",
           "radialaxis": {
            "gridcolor": "rgb(232,232,232)",
            "linecolor": "rgb(36,36,36)",
            "showgrid": false,
            "showline": true,
            "ticks": "outside"
           }
          },
          "scene": {
           "xaxis": {
            "backgroundcolor": "white",
            "gridcolor": "rgb(232,232,232)",
            "gridwidth": 2,
            "linecolor": "rgb(36,36,36)",
            "showbackground": true,
            "showgrid": false,
            "showline": true,
            "ticks": "outside",
            "zeroline": false,
            "zerolinecolor": "rgb(36,36,36)"
           },
           "yaxis": {
            "backgroundcolor": "white",
            "gridcolor": "rgb(232,232,232)",
            "gridwidth": 2,
            "linecolor": "rgb(36,36,36)",
            "showbackground": true,
            "showgrid": false,
            "showline": true,
            "ticks": "outside",
            "zeroline": false,
            "zerolinecolor": "rgb(36,36,36)"
           },
           "zaxis": {
            "backgroundcolor": "white",
            "gridcolor": "rgb(232,232,232)",
            "gridwidth": 2,
            "linecolor": "rgb(36,36,36)",
            "showbackground": true,
            "showgrid": false,
            "showline": true,
            "ticks": "outside",
            "zeroline": false,
            "zerolinecolor": "rgb(36,36,36)"
           }
          },
          "shapedefaults": {
           "fillcolor": "black",
           "line": {
            "width": 0
           },
           "opacity": 0.3
          },
          "ternary": {
           "aaxis": {
            "gridcolor": "rgb(232,232,232)",
            "linecolor": "rgb(36,36,36)",
            "showgrid": false,
            "showline": true,
            "ticks": "outside"
           },
           "baxis": {
            "gridcolor": "rgb(232,232,232)",
            "linecolor": "rgb(36,36,36)",
            "showgrid": false,
            "showline": true,
            "ticks": "outside"
           },
           "bgcolor": "white",
           "caxis": {
            "gridcolor": "rgb(232,232,232)",
            "linecolor": "rgb(36,36,36)",
            "showgrid": false,
            "showline": true,
            "ticks": "outside"
           }
          },
          "title": {
           "x": 0.05
          },
          "xaxis": {
           "automargin": true,
           "gridcolor": "rgb(232,232,232)",
           "linecolor": "rgb(36,36,36)",
           "showgrid": false,
           "showline": true,
           "ticks": "outside",
           "title": {
            "standoff": 15
           },
           "zeroline": false,
           "zerolinecolor": "rgb(36,36,36)"
          },
          "yaxis": {
           "automargin": true,
           "gridcolor": "rgb(232,232,232)",
           "linecolor": "rgb(36,36,36)",
           "showgrid": false,
           "showline": true,
           "ticks": "outside",
           "title": {
            "standoff": 15
           },
           "zeroline": false,
           "zerolinecolor": "rgb(36,36,36)"
          }
         }
        },
        "title": {
         "font": {
          "color": "Black",
          "size": 22
         },
         "text": "<b>Intertopic Distance Map</b>",
         "x": 0.5,
         "xanchor": "center",
         "y": 0.95,
         "yanchor": "top"
        },
        "width": 650,
        "xaxis": {
         "anchor": "y",
         "domain": [
          0,
          1
         ],
         "range": [
          0.6502534836530686,
          3.1145327925682067
         ],
         "title": {
          "text": ""
         },
         "visible": false
        },
        "yaxis": {
         "anchor": "x",
         "domain": [
          0,
          1
         ],
         "range": [
          -2.497896158695221,
          26.296155738830567
         ],
         "title": {
          "text": ""
         },
         "visible": false
        }
       }
      },
      "text/html": [
       "<div>                        <script type=\"text/javascript\">window.PlotlyConfig = {MathJaxConfig: 'local'};</script>\n",
       "        <script charset=\"utf-8\" src=\"https://cdn.plot.ly/plotly-2.27.0.min.js\"></script>                <div id=\"e56aeb39-e141-4965-93c1-b6f910cfabc9\" class=\"plotly-graph-div\" style=\"height:650px; width:650px;\"></div>            <script type=\"text/javascript\">                                    window.PLOTLYENV=window.PLOTLYENV || {};                                    if (document.getElementById(\"e56aeb39-e141-4965-93c1-b6f910cfabc9\")) {                    Plotly.newPlot(                        \"e56aeb39-e141-4965-93c1-b6f910cfabc9\",                        [{\"customdata\":[[0,\"candidate | presidential | 2024 | electoral | 2020\",46],[1,\"2028 | 2030 | 2024 | releases | theaters\",36],[2,\"closing | nasdaq | closes | markets | stock\",31],[3,\"promote | sale | buy | prices | ideas\",29],[4,\"crimea | treaty | coalition | nato | ukraine\",26],[5,\"betting | trading | close | nfl | kickoff\",26],[6,\"closing | closes | markets | december | closed\",22],[7,\"agi | ai | asi | 2025 | 2024\",21],[8,\"tottenham | burnley | bournemouth | everton | arsenal\",15],[9,\"milestones | milestone | date | relationship | dating\",15],[10,\"closing | closes | market | december | markets\",14],[11,\"closing | closes | closed | december | market\",13],[12,\"market | markets | closing | closes | sircryptomind\",11]],\"hovertemplate\":\"\\u003cb\\u003eTopic %{customdata[0]}\\u003c\\u002fb\\u003e\\u003cbr\\u003e%{customdata[1]}\\u003cbr\\u003eSize: %{customdata[2]}\",\"legendgroup\":\"\",\"marker\":{\"color\":\"#B0BEC5\",\"size\":[46,36,31,29,26,26,22,21,15,15,14,13,11],\"sizemode\":\"area\",\"sizeref\":0.02875,\"symbol\":\"circle\",\"line\":{\"color\":\"DarkSlateGrey\",\"width\":2}},\"mode\":\"markers\",\"name\":\"\",\"orientation\":\"v\",\"showlegend\":false,\"x\":[1.5054274797439575,2.040170669555664,1.8394302129745483,1.6209654808044434,1.8776386976242065,0.8460438251495361,2.3092544078826904,2.461420774459839,0.7650040984153748,1.2750555276870728,2.708289384841919,1.342797875404358,2.1212832927703857],\"xaxis\":\"x\",\"y\":[13.466110229492188,12.640276908874512,22.237728118896484,12.03553581237793,13.159152030944824,-2.091081142425537,22.322927474975586,12.432754516601562,-2.172083616256714,11.612628936767578,22.609182357788086,22.13686180114746,22.866222381591797],\"yaxis\":\"y\",\"type\":\"scatter\"}],                        {\"template\":{\"data\":{\"barpolar\":[{\"marker\":{\"line\":{\"color\":\"white\",\"width\":0.5},\"pattern\":{\"fillmode\":\"overlay\",\"size\":10,\"solidity\":0.2}},\"type\":\"barpolar\"}],\"bar\":[{\"error_x\":{\"color\":\"rgb(36,36,36)\"},\"error_y\":{\"color\":\"rgb(36,36,36)\"},\"marker\":{\"line\":{\"color\":\"white\",\"width\":0.5},\"pattern\":{\"fillmode\":\"overlay\",\"size\":10,\"solidity\":0.2}},\"type\":\"bar\"}],\"carpet\":[{\"aaxis\":{\"endlinecolor\":\"rgb(36,36,36)\",\"gridcolor\":\"white\",\"linecolor\":\"white\",\"minorgridcolor\":\"white\",\"startlinecolor\":\"rgb(36,36,36)\"},\"baxis\":{\"endlinecolor\":\"rgb(36,36,36)\",\"gridcolor\":\"white\",\"linecolor\":\"white\",\"minorgridcolor\":\"white\",\"startlinecolor\":\"rgb(36,36,36)\"},\"type\":\"carpet\"}],\"choropleth\":[{\"colorbar\":{\"outlinewidth\":1,\"tickcolor\":\"rgb(36,36,36)\",\"ticks\":\"outside\"},\"type\":\"choropleth\"}],\"contourcarpet\":[{\"colorbar\":{\"outlinewidth\":1,\"tickcolor\":\"rgb(36,36,36)\",\"ticks\":\"outside\"},\"type\":\"contourcarpet\"}],\"contour\":[{\"colorbar\":{\"outlinewidth\":1,\"tickcolor\":\"rgb(36,36,36)\",\"ticks\":\"outside\"},\"colorscale\":[[0.0,\"#440154\"],[0.1111111111111111,\"#482878\"],[0.2222222222222222,\"#3e4989\"],[0.3333333333333333,\"#31688e\"],[0.4444444444444444,\"#26828e\"],[0.5555555555555556,\"#1f9e89\"],[0.6666666666666666,\"#35b779\"],[0.7777777777777778,\"#6ece58\"],[0.8888888888888888,\"#b5de2b\"],[1.0,\"#fde725\"]],\"type\":\"contour\"}],\"heatmapgl\":[{\"colorbar\":{\"outlinewidth\":1,\"tickcolor\":\"rgb(36,36,36)\",\"ticks\":\"outside\"},\"colorscale\":[[0.0,\"#440154\"],[0.1111111111111111,\"#482878\"],[0.2222222222222222,\"#3e4989\"],[0.3333333333333333,\"#31688e\"],[0.4444444444444444,\"#26828e\"],[0.5555555555555556,\"#1f9e89\"],[0.6666666666666666,\"#35b779\"],[0.7777777777777778,\"#6ece58\"],[0.8888888888888888,\"#b5de2b\"],[1.0,\"#fde725\"]],\"type\":\"heatmapgl\"}],\"heatmap\":[{\"colorbar\":{\"outlinewidth\":1,\"tickcolor\":\"rgb(36,36,36)\",\"ticks\":\"outside\"},\"colorscale\":[[0.0,\"#440154\"],[0.1111111111111111,\"#482878\"],[0.2222222222222222,\"#3e4989\"],[0.3333333333333333,\"#31688e\"],[0.4444444444444444,\"#26828e\"],[0.5555555555555556,\"#1f9e89\"],[0.6666666666666666,\"#35b779\"],[0.7777777777777778,\"#6ece58\"],[0.8888888888888888,\"#b5de2b\"],[1.0,\"#fde725\"]],\"type\":\"heatmap\"}],\"histogram2dcontour\":[{\"colorbar\":{\"outlinewidth\":1,\"tickcolor\":\"rgb(36,36,36)\",\"ticks\":\"outside\"},\"colorscale\":[[0.0,\"#440154\"],[0.1111111111111111,\"#482878\"],[0.2222222222222222,\"#3e4989\"],[0.3333333333333333,\"#31688e\"],[0.4444444444444444,\"#26828e\"],[0.5555555555555556,\"#1f9e89\"],[0.6666666666666666,\"#35b779\"],[0.7777777777777778,\"#6ece58\"],[0.8888888888888888,\"#b5de2b\"],[1.0,\"#fde725\"]],\"type\":\"histogram2dcontour\"}],\"histogram2d\":[{\"colorbar\":{\"outlinewidth\":1,\"tickcolor\":\"rgb(36,36,36)\",\"ticks\":\"outside\"},\"colorscale\":[[0.0,\"#440154\"],[0.1111111111111111,\"#482878\"],[0.2222222222222222,\"#3e4989\"],[0.3333333333333333,\"#31688e\"],[0.4444444444444444,\"#26828e\"],[0.5555555555555556,\"#1f9e89\"],[0.6666666666666666,\"#35b779\"],[0.7777777777777778,\"#6ece58\"],[0.8888888888888888,\"#b5de2b\"],[1.0,\"#fde725\"]],\"type\":\"histogram2d\"}],\"histogram\":[{\"marker\":{\"line\":{\"color\":\"white\",\"width\":0.6}},\"type\":\"histogram\"}],\"mesh3d\":[{\"colorbar\":{\"outlinewidth\":1,\"tickcolor\":\"rgb(36,36,36)\",\"ticks\":\"outside\"},\"type\":\"mesh3d\"}],\"parcoords\":[{\"line\":{\"colorbar\":{\"outlinewidth\":1,\"tickcolor\":\"rgb(36,36,36)\",\"ticks\":\"outside\"}},\"type\":\"parcoords\"}],\"pie\":[{\"automargin\":true,\"type\":\"pie\"}],\"scatter3d\":[{\"line\":{\"colorbar\":{\"outlinewidth\":1,\"tickcolor\":\"rgb(36,36,36)\",\"ticks\":\"outside\"}},\"marker\":{\"colorbar\":{\"outlinewidth\":1,\"tickcolor\":\"rgb(36,36,36)\",\"ticks\":\"outside\"}},\"type\":\"scatter3d\"}],\"scattercarpet\":[{\"marker\":{\"colorbar\":{\"outlinewidth\":1,\"tickcolor\":\"rgb(36,36,36)\",\"ticks\":\"outside\"}},\"type\":\"scattercarpet\"}],\"scattergeo\":[{\"marker\":{\"colorbar\":{\"outlinewidth\":1,\"tickcolor\":\"rgb(36,36,36)\",\"ticks\":\"outside\"}},\"type\":\"scattergeo\"}],\"scattergl\":[{\"marker\":{\"colorbar\":{\"outlinewidth\":1,\"tickcolor\":\"rgb(36,36,36)\",\"ticks\":\"outside\"}},\"type\":\"scattergl\"}],\"scattermapbox\":[{\"marker\":{\"colorbar\":{\"outlinewidth\":1,\"tickcolor\":\"rgb(36,36,36)\",\"ticks\":\"outside\"}},\"type\":\"scattermapbox\"}],\"scatterpolargl\":[{\"marker\":{\"colorbar\":{\"outlinewidth\":1,\"tickcolor\":\"rgb(36,36,36)\",\"ticks\":\"outside\"}},\"type\":\"scatterpolargl\"}],\"scatterpolar\":[{\"marker\":{\"colorbar\":{\"outlinewidth\":1,\"tickcolor\":\"rgb(36,36,36)\",\"ticks\":\"outside\"}},\"type\":\"scatterpolar\"}],\"scatter\":[{\"fillpattern\":{\"fillmode\":\"overlay\",\"size\":10,\"solidity\":0.2},\"type\":\"scatter\"}],\"scatterternary\":[{\"marker\":{\"colorbar\":{\"outlinewidth\":1,\"tickcolor\":\"rgb(36,36,36)\",\"ticks\":\"outside\"}},\"type\":\"scatterternary\"}],\"surface\":[{\"colorbar\":{\"outlinewidth\":1,\"tickcolor\":\"rgb(36,36,36)\",\"ticks\":\"outside\"},\"colorscale\":[[0.0,\"#440154\"],[0.1111111111111111,\"#482878\"],[0.2222222222222222,\"#3e4989\"],[0.3333333333333333,\"#31688e\"],[0.4444444444444444,\"#26828e\"],[0.5555555555555556,\"#1f9e89\"],[0.6666666666666666,\"#35b779\"],[0.7777777777777778,\"#6ece58\"],[0.8888888888888888,\"#b5de2b\"],[1.0,\"#fde725\"]],\"type\":\"surface\"}],\"table\":[{\"cells\":{\"fill\":{\"color\":\"rgb(237,237,237)\"},\"line\":{\"color\":\"white\"}},\"header\":{\"fill\":{\"color\":\"rgb(217,217,217)\"},\"line\":{\"color\":\"white\"}},\"type\":\"table\"}]},\"layout\":{\"annotationdefaults\":{\"arrowhead\":0,\"arrowwidth\":1},\"autotypenumbers\":\"strict\",\"coloraxis\":{\"colorbar\":{\"outlinewidth\":1,\"tickcolor\":\"rgb(36,36,36)\",\"ticks\":\"outside\"}},\"colorscale\":{\"diverging\":[[0.0,\"rgb(103,0,31)\"],[0.1,\"rgb(178,24,43)\"],[0.2,\"rgb(214,96,77)\"],[0.3,\"rgb(244,165,130)\"],[0.4,\"rgb(253,219,199)\"],[0.5,\"rgb(247,247,247)\"],[0.6,\"rgb(209,229,240)\"],[0.7,\"rgb(146,197,222)\"],[0.8,\"rgb(67,147,195)\"],[0.9,\"rgb(33,102,172)\"],[1.0,\"rgb(5,48,97)\"]],\"sequential\":[[0.0,\"#440154\"],[0.1111111111111111,\"#482878\"],[0.2222222222222222,\"#3e4989\"],[0.3333333333333333,\"#31688e\"],[0.4444444444444444,\"#26828e\"],[0.5555555555555556,\"#1f9e89\"],[0.6666666666666666,\"#35b779\"],[0.7777777777777778,\"#6ece58\"],[0.8888888888888888,\"#b5de2b\"],[1.0,\"#fde725\"]],\"sequentialminus\":[[0.0,\"#440154\"],[0.1111111111111111,\"#482878\"],[0.2222222222222222,\"#3e4989\"],[0.3333333333333333,\"#31688e\"],[0.4444444444444444,\"#26828e\"],[0.5555555555555556,\"#1f9e89\"],[0.6666666666666666,\"#35b779\"],[0.7777777777777778,\"#6ece58\"],[0.8888888888888888,\"#b5de2b\"],[1.0,\"#fde725\"]]},\"colorway\":[\"#1F77B4\",\"#FF7F0E\",\"#2CA02C\",\"#D62728\",\"#9467BD\",\"#8C564B\",\"#E377C2\",\"#7F7F7F\",\"#BCBD22\",\"#17BECF\"],\"font\":{\"color\":\"rgb(36,36,36)\"},\"geo\":{\"bgcolor\":\"white\",\"lakecolor\":\"white\",\"landcolor\":\"white\",\"showlakes\":true,\"showland\":true,\"subunitcolor\":\"white\"},\"hoverlabel\":{\"align\":\"left\"},\"hovermode\":\"closest\",\"mapbox\":{\"style\":\"light\"},\"paper_bgcolor\":\"white\",\"plot_bgcolor\":\"white\",\"polar\":{\"angularaxis\":{\"gridcolor\":\"rgb(232,232,232)\",\"linecolor\":\"rgb(36,36,36)\",\"showgrid\":false,\"showline\":true,\"ticks\":\"outside\"},\"bgcolor\":\"white\",\"radialaxis\":{\"gridcolor\":\"rgb(232,232,232)\",\"linecolor\":\"rgb(36,36,36)\",\"showgrid\":false,\"showline\":true,\"ticks\":\"outside\"}},\"scene\":{\"xaxis\":{\"backgroundcolor\":\"white\",\"gridcolor\":\"rgb(232,232,232)\",\"gridwidth\":2,\"linecolor\":\"rgb(36,36,36)\",\"showbackground\":true,\"showgrid\":false,\"showline\":true,\"ticks\":\"outside\",\"zeroline\":false,\"zerolinecolor\":\"rgb(36,36,36)\"},\"yaxis\":{\"backgroundcolor\":\"white\",\"gridcolor\":\"rgb(232,232,232)\",\"gridwidth\":2,\"linecolor\":\"rgb(36,36,36)\",\"showbackground\":true,\"showgrid\":false,\"showline\":true,\"ticks\":\"outside\",\"zeroline\":false,\"zerolinecolor\":\"rgb(36,36,36)\"},\"zaxis\":{\"backgroundcolor\":\"white\",\"gridcolor\":\"rgb(232,232,232)\",\"gridwidth\":2,\"linecolor\":\"rgb(36,36,36)\",\"showbackground\":true,\"showgrid\":false,\"showline\":true,\"ticks\":\"outside\",\"zeroline\":false,\"zerolinecolor\":\"rgb(36,36,36)\"}},\"shapedefaults\":{\"fillcolor\":\"black\",\"line\":{\"width\":0},\"opacity\":0.3},\"ternary\":{\"aaxis\":{\"gridcolor\":\"rgb(232,232,232)\",\"linecolor\":\"rgb(36,36,36)\",\"showgrid\":false,\"showline\":true,\"ticks\":\"outside\"},\"baxis\":{\"gridcolor\":\"rgb(232,232,232)\",\"linecolor\":\"rgb(36,36,36)\",\"showgrid\":false,\"showline\":true,\"ticks\":\"outside\"},\"bgcolor\":\"white\",\"caxis\":{\"gridcolor\":\"rgb(232,232,232)\",\"linecolor\":\"rgb(36,36,36)\",\"showgrid\":false,\"showline\":true,\"ticks\":\"outside\"}},\"title\":{\"x\":0.05},\"xaxis\":{\"automargin\":true,\"gridcolor\":\"rgb(232,232,232)\",\"linecolor\":\"rgb(36,36,36)\",\"showgrid\":false,\"showline\":true,\"ticks\":\"outside\",\"title\":{\"standoff\":15},\"zeroline\":false,\"zerolinecolor\":\"rgb(36,36,36)\"},\"yaxis\":{\"automargin\":true,\"gridcolor\":\"rgb(232,232,232)\",\"linecolor\":\"rgb(36,36,36)\",\"showgrid\":false,\"showline\":true,\"ticks\":\"outside\",\"title\":{\"standoff\":15},\"zeroline\":false,\"zerolinecolor\":\"rgb(36,36,36)\"}}},\"xaxis\":{\"anchor\":\"y\",\"domain\":[0.0,1.0],\"title\":{\"text\":\"\"},\"visible\":false,\"range\":[0.6502534836530686,3.1145327925682067]},\"yaxis\":{\"anchor\":\"x\",\"domain\":[0.0,1.0],\"title\":{\"text\":\"\"},\"visible\":false,\"range\":[-2.497896158695221,26.296155738830567]},\"legend\":{\"tracegroupgap\":0,\"itemsizing\":\"constant\"},\"margin\":{\"t\":60},\"title\":{\"font\":{\"size\":22,\"color\":\"Black\"},\"text\":\"\\u003cb\\u003eIntertopic Distance Map\\u003c\\u002fb\\u003e\",\"y\":0.95,\"x\":0.5,\"xanchor\":\"center\",\"yanchor\":\"top\"},\"hoverlabel\":{\"font\":{\"size\":16,\"family\":\"Rockwell\"},\"bgcolor\":\"white\"},\"width\":650,\"height\":650,\"sliders\":[{\"active\":0,\"pad\":{\"t\":50},\"steps\":[{\"args\":[{\"marker.color\":[[\"red\",\"#B0BEC5\",\"#B0BEC5\",\"#B0BEC5\",\"#B0BEC5\",\"#B0BEC5\",\"#B0BEC5\",\"#B0BEC5\",\"#B0BEC5\",\"#B0BEC5\",\"#B0BEC5\",\"#B0BEC5\",\"#B0BEC5\"]]}],\"label\":\"Topic 0\",\"method\":\"update\"},{\"args\":[{\"marker.color\":[[\"#B0BEC5\",\"red\",\"#B0BEC5\",\"#B0BEC5\",\"#B0BEC5\",\"#B0BEC5\",\"#B0BEC5\",\"#B0BEC5\",\"#B0BEC5\",\"#B0BEC5\",\"#B0BEC5\",\"#B0BEC5\",\"#B0BEC5\"]]}],\"label\":\"Topic 1\",\"method\":\"update\"},{\"args\":[{\"marker.color\":[[\"#B0BEC5\",\"#B0BEC5\",\"red\",\"#B0BEC5\",\"#B0BEC5\",\"#B0BEC5\",\"#B0BEC5\",\"#B0BEC5\",\"#B0BEC5\",\"#B0BEC5\",\"#B0BEC5\",\"#B0BEC5\",\"#B0BEC5\"]]}],\"label\":\"Topic 2\",\"method\":\"update\"},{\"args\":[{\"marker.color\":[[\"#B0BEC5\",\"#B0BEC5\",\"#B0BEC5\",\"red\",\"#B0BEC5\",\"#B0BEC5\",\"#B0BEC5\",\"#B0BEC5\",\"#B0BEC5\",\"#B0BEC5\",\"#B0BEC5\",\"#B0BEC5\",\"#B0BEC5\"]]}],\"label\":\"Topic 3\",\"method\":\"update\"},{\"args\":[{\"marker.color\":[[\"#B0BEC5\",\"#B0BEC5\",\"#B0BEC5\",\"#B0BEC5\",\"red\",\"#B0BEC5\",\"#B0BEC5\",\"#B0BEC5\",\"#B0BEC5\",\"#B0BEC5\",\"#B0BEC5\",\"#B0BEC5\",\"#B0BEC5\"]]}],\"label\":\"Topic 4\",\"method\":\"update\"},{\"args\":[{\"marker.color\":[[\"#B0BEC5\",\"#B0BEC5\",\"#B0BEC5\",\"#B0BEC5\",\"#B0BEC5\",\"red\",\"#B0BEC5\",\"#B0BEC5\",\"#B0BEC5\",\"#B0BEC5\",\"#B0BEC5\",\"#B0BEC5\",\"#B0BEC5\"]]}],\"label\":\"Topic 5\",\"method\":\"update\"},{\"args\":[{\"marker.color\":[[\"#B0BEC5\",\"#B0BEC5\",\"#B0BEC5\",\"#B0BEC5\",\"#B0BEC5\",\"#B0BEC5\",\"red\",\"#B0BEC5\",\"#B0BEC5\",\"#B0BEC5\",\"#B0BEC5\",\"#B0BEC5\",\"#B0BEC5\"]]}],\"label\":\"Topic 6\",\"method\":\"update\"},{\"args\":[{\"marker.color\":[[\"#B0BEC5\",\"#B0BEC5\",\"#B0BEC5\",\"#B0BEC5\",\"#B0BEC5\",\"#B0BEC5\",\"#B0BEC5\",\"red\",\"#B0BEC5\",\"#B0BEC5\",\"#B0BEC5\",\"#B0BEC5\",\"#B0BEC5\"]]}],\"label\":\"Topic 7\",\"method\":\"update\"},{\"args\":[{\"marker.color\":[[\"#B0BEC5\",\"#B0BEC5\",\"#B0BEC5\",\"#B0BEC5\",\"#B0BEC5\",\"#B0BEC5\",\"#B0BEC5\",\"#B0BEC5\",\"red\",\"#B0BEC5\",\"#B0BEC5\",\"#B0BEC5\",\"#B0BEC5\"]]}],\"label\":\"Topic 8\",\"method\":\"update\"},{\"args\":[{\"marker.color\":[[\"#B0BEC5\",\"#B0BEC5\",\"#B0BEC5\",\"#B0BEC5\",\"#B0BEC5\",\"#B0BEC5\",\"#B0BEC5\",\"#B0BEC5\",\"#B0BEC5\",\"red\",\"#B0BEC5\",\"#B0BEC5\",\"#B0BEC5\"]]}],\"label\":\"Topic 9\",\"method\":\"update\"},{\"args\":[{\"marker.color\":[[\"#B0BEC5\",\"#B0BEC5\",\"#B0BEC5\",\"#B0BEC5\",\"#B0BEC5\",\"#B0BEC5\",\"#B0BEC5\",\"#B0BEC5\",\"#B0BEC5\",\"#B0BEC5\",\"red\",\"#B0BEC5\",\"#B0BEC5\"]]}],\"label\":\"Topic 10\",\"method\":\"update\"},{\"args\":[{\"marker.color\":[[\"#B0BEC5\",\"#B0BEC5\",\"#B0BEC5\",\"#B0BEC5\",\"#B0BEC5\",\"#B0BEC5\",\"#B0BEC5\",\"#B0BEC5\",\"#B0BEC5\",\"#B0BEC5\",\"#B0BEC5\",\"red\",\"#B0BEC5\"]]}],\"label\":\"Topic 11\",\"method\":\"update\"},{\"args\":[{\"marker.color\":[[\"#B0BEC5\",\"#B0BEC5\",\"#B0BEC5\",\"#B0BEC5\",\"#B0BEC5\",\"#B0BEC5\",\"#B0BEC5\",\"#B0BEC5\",\"#B0BEC5\",\"#B0BEC5\",\"#B0BEC5\",\"#B0BEC5\",\"red\"]]}],\"label\":\"Topic 12\",\"method\":\"update\"}]}],\"shapes\":[{\"line\":{\"color\":\"#CFD8DC\",\"width\":2},\"type\":\"line\",\"x0\":1.8823931381106376,\"x1\":1.8823931381106376,\"y0\":-2.497896158695221,\"y1\":26.296155738830567},{\"line\":{\"color\":\"#9E9E9E\",\"width\":2},\"type\":\"line\",\"x0\":0.6502534836530686,\"x1\":3.1145327925682067,\"y0\":11.899129790067674,\"y1\":11.899129790067674}],\"annotations\":[{\"showarrow\":false,\"text\":\"D1\",\"x\":0.6502534836530686,\"y\":11.899129790067674,\"yshift\":10},{\"showarrow\":false,\"text\":\"D2\",\"x\":1.8823931381106376,\"xshift\":10,\"y\":26.296155738830567}]},                        {\"responsive\": true}                    )                };                            </script>        </div>"
      ],
      "text/plain": [
       "Figure({\n",
       "    'data': [{'customdata': array([[0, 'candidate | presidential | 2024 | electoral | 2020', 46],\n",
       "                                   [1, '2028 | 2030 | 2024 | releases | theaters', 36],\n",
       "                                   [2, 'closing | nasdaq | closes | markets | stock', 31],\n",
       "                                   [3, 'promote | sale | buy | prices | ideas', 29],\n",
       "                                   [4, 'crimea | treaty | coalition | nato | ukraine', 26],\n",
       "                                   [5, 'betting | trading | close | nfl | kickoff', 26],\n",
       "                                   [6, 'closing | closes | markets | december | closed', 22],\n",
       "                                   [7, 'agi | ai | asi | 2025 | 2024', 21],\n",
       "                                   [8, 'tottenham | burnley | bournemouth | everton | arsenal', 15],\n",
       "                                   [9, 'milestones | milestone | date | relationship | dating', 15],\n",
       "                                   [10, 'closing | closes | market | december | markets', 14],\n",
       "                                   [11, 'closing | closes | closed | december | market', 13],\n",
       "                                   [12, 'market | markets | closing | closes | sircryptomind', 11]],\n",
       "                                  dtype=object),\n",
       "              'hovertemplate': '<b>Topic %{customdata[0]}</b><br>%{customdata[1]}<br>Size: %{customdata[2]}',\n",
       "              'legendgroup': '',\n",
       "              'marker': {'color': '#B0BEC5',\n",
       "                         'line': {'color': 'DarkSlateGrey', 'width': 2},\n",
       "                         'size': array([46, 36, 31, 29, 26, 26, 22, 21, 15, 15, 14, 13, 11]),\n",
       "                         'sizemode': 'area',\n",
       "                         'sizeref': 0.02875,\n",
       "                         'symbol': 'circle'},\n",
       "              'mode': 'markers',\n",
       "              'name': '',\n",
       "              'orientation': 'v',\n",
       "              'showlegend': False,\n",
       "              'type': 'scatter',\n",
       "              'x': array([1.5054275, 2.0401707, 1.8394302, 1.6209655, 1.8776387, 0.8460438,\n",
       "                          2.3092544, 2.4614208, 0.7650041, 1.2750555, 2.7082894, 1.3427979,\n",
       "                          2.1212833], dtype=float32),\n",
       "              'xaxis': 'x',\n",
       "              'y': array([13.46611  , 12.640277 , 22.237728 , 12.035536 , 13.159152 , -2.0910811,\n",
       "                          22.322927 , 12.4327545, -2.1720836, 11.612629 , 22.609182 , 22.136862 ,\n",
       "                          22.866222 ], dtype=float32),\n",
       "              'yaxis': 'y'}],\n",
       "    'layout': {'annotations': [{'showarrow': False,\n",
       "                                'text': 'D1',\n",
       "                                'x': 0.6502534836530686,\n",
       "                                'y': 11.899129790067674,\n",
       "                                'yshift': 10},\n",
       "                               {'showarrow': False,\n",
       "                                'text': 'D2',\n",
       "                                'x': 1.8823931381106376,\n",
       "                                'xshift': 10,\n",
       "                                'y': 26.296155738830567}],\n",
       "               'height': 650,\n",
       "               'hoverlabel': {'bgcolor': 'white', 'font': {'family': 'Rockwell', 'size': 16}},\n",
       "               'legend': {'itemsizing': 'constant', 'tracegroupgap': 0},\n",
       "               'margin': {'t': 60},\n",
       "               'shapes': [{'line': {'color': '#CFD8DC', 'width': 2},\n",
       "                           'type': 'line',\n",
       "                           'x0': 1.8823931381106376,\n",
       "                           'x1': 1.8823931381106376,\n",
       "                           'y0': -2.497896158695221,\n",
       "                           'y1': 26.296155738830567},\n",
       "                          {'line': {'color': '#9E9E9E', 'width': 2},\n",
       "                           'type': 'line',\n",
       "                           'x0': 0.6502534836530686,\n",
       "                           'x1': 3.1145327925682067,\n",
       "                           'y0': 11.899129790067674,\n",
       "                           'y1': 11.899129790067674}],\n",
       "               'sliders': [{'active': 0,\n",
       "                            'pad': {'t': 50},\n",
       "                            'steps': [{'args': [{'marker.color': [['red',\n",
       "                                                                  '#B0BEC5',\n",
       "                                                                  '#B0BEC5',\n",
       "                                                                  '#B0BEC5',\n",
       "                                                                  '#B0BEC5',\n",
       "                                                                  '#B0BEC5',\n",
       "                                                                  '#B0BEC5',\n",
       "                                                                  '#B0BEC5',\n",
       "                                                                  '#B0BEC5',\n",
       "                                                                  '#B0BEC5',\n",
       "                                                                  '#B0BEC5',\n",
       "                                                                  '#B0BEC5',\n",
       "                                                                  '#B0BEC5']]}],\n",
       "                                       'label': 'Topic 0',\n",
       "                                       'method': 'update'},\n",
       "                                      {'args': [{'marker.color': [['#B0BEC5',\n",
       "                                                                  'red', '#B0BEC5',\n",
       "                                                                  '#B0BEC5',\n",
       "                                                                  '#B0BEC5',\n",
       "                                                                  '#B0BEC5',\n",
       "                                                                  '#B0BEC5',\n",
       "                                                                  '#B0BEC5',\n",
       "                                                                  '#B0BEC5',\n",
       "                                                                  '#B0BEC5',\n",
       "                                                                  '#B0BEC5',\n",
       "                                                                  '#B0BEC5',\n",
       "                                                                  '#B0BEC5']]}],\n",
       "                                       'label': 'Topic 1',\n",
       "                                       'method': 'update'},\n",
       "                                      {'args': [{'marker.color': [['#B0BEC5',\n",
       "                                                                  '#B0BEC5', 'red',\n",
       "                                                                  '#B0BEC5',\n",
       "                                                                  '#B0BEC5',\n",
       "                                                                  '#B0BEC5',\n",
       "                                                                  '#B0BEC5',\n",
       "                                                                  '#B0BEC5',\n",
       "                                                                  '#B0BEC5',\n",
       "                                                                  '#B0BEC5',\n",
       "                                                                  '#B0BEC5',\n",
       "                                                                  '#B0BEC5',\n",
       "                                                                  '#B0BEC5']]}],\n",
       "                                       'label': 'Topic 2',\n",
       "                                       'method': 'update'},\n",
       "                                      {'args': [{'marker.color': [['#B0BEC5',\n",
       "                                                                  '#B0BEC5',\n",
       "                                                                  '#B0BEC5', 'red',\n",
       "                                                                  '#B0BEC5',\n",
       "                                                                  '#B0BEC5',\n",
       "                                                                  '#B0BEC5',\n",
       "                                                                  '#B0BEC5',\n",
       "                                                                  '#B0BEC5',\n",
       "                                                                  '#B0BEC5',\n",
       "                                                                  '#B0BEC5',\n",
       "                                                                  '#B0BEC5',\n",
       "                                                                  '#B0BEC5']]}],\n",
       "                                       'label': 'Topic 3',\n",
       "                                       'method': 'update'},\n",
       "                                      {'args': [{'marker.color': [['#B0BEC5',\n",
       "                                                                  '#B0BEC5',\n",
       "                                                                  '#B0BEC5',\n",
       "                                                                  '#B0BEC5', 'red',\n",
       "                                                                  '#B0BEC5',\n",
       "                                                                  '#B0BEC5',\n",
       "                                                                  '#B0BEC5',\n",
       "                                                                  '#B0BEC5',\n",
       "                                                                  '#B0BEC5',\n",
       "                                                                  '#B0BEC5',\n",
       "                                                                  '#B0BEC5',\n",
       "                                                                  '#B0BEC5']]}],\n",
       "                                       'label': 'Topic 4',\n",
       "                                       'method': 'update'},\n",
       "                                      {'args': [{'marker.color': [['#B0BEC5',\n",
       "                                                                  '#B0BEC5',\n",
       "                                                                  '#B0BEC5',\n",
       "                                                                  '#B0BEC5',\n",
       "                                                                  '#B0BEC5', 'red',\n",
       "                                                                  '#B0BEC5',\n",
       "                                                                  '#B0BEC5',\n",
       "                                                                  '#B0BEC5',\n",
       "                                                                  '#B0BEC5',\n",
       "                                                                  '#B0BEC5',\n",
       "                                                                  '#B0BEC5',\n",
       "                                                                  '#B0BEC5']]}],\n",
       "                                       'label': 'Topic 5',\n",
       "                                       'method': 'update'},\n",
       "                                      {'args': [{'marker.color': [['#B0BEC5',\n",
       "                                                                  '#B0BEC5',\n",
       "                                                                  '#B0BEC5',\n",
       "                                                                  '#B0BEC5',\n",
       "                                                                  '#B0BEC5',\n",
       "                                                                  '#B0BEC5', 'red',\n",
       "                                                                  '#B0BEC5',\n",
       "                                                                  '#B0BEC5',\n",
       "                                                                  '#B0BEC5',\n",
       "                                                                  '#B0BEC5',\n",
       "                                                                  '#B0BEC5',\n",
       "                                                                  '#B0BEC5']]}],\n",
       "                                       'label': 'Topic 6',\n",
       "                                       'method': 'update'},\n",
       "                                      {'args': [{'marker.color': [['#B0BEC5',\n",
       "                                                                  '#B0BEC5',\n",
       "                                                                  '#B0BEC5',\n",
       "                                                                  '#B0BEC5',\n",
       "                                                                  '#B0BEC5',\n",
       "                                                                  '#B0BEC5',\n",
       "                                                                  '#B0BEC5', 'red',\n",
       "                                                                  '#B0BEC5',\n",
       "                                                                  '#B0BEC5',\n",
       "                                                                  '#B0BEC5',\n",
       "                                                                  '#B0BEC5',\n",
       "                                                                  '#B0BEC5']]}],\n",
       "                                       'label': 'Topic 7',\n",
       "                                       'method': 'update'},\n",
       "                                      {'args': [{'marker.color': [['#B0BEC5',\n",
       "                                                                  '#B0BEC5',\n",
       "                                                                  '#B0BEC5',\n",
       "                                                                  '#B0BEC5',\n",
       "                                                                  '#B0BEC5',\n",
       "                                                                  '#B0BEC5',\n",
       "                                                                  '#B0BEC5',\n",
       "                                                                  '#B0BEC5', 'red',\n",
       "                                                                  '#B0BEC5',\n",
       "                                                                  '#B0BEC5',\n",
       "                                                                  '#B0BEC5',\n",
       "                                                                  '#B0BEC5']]}],\n",
       "                                       'label': 'Topic 8',\n",
       "                                       'method': 'update'},\n",
       "                                      {'args': [{'marker.color': [['#B0BEC5',\n",
       "                                                                  '#B0BEC5',\n",
       "                                                                  '#B0BEC5',\n",
       "                                                                  '#B0BEC5',\n",
       "                                                                  '#B0BEC5',\n",
       "                                                                  '#B0BEC5',\n",
       "                                                                  '#B0BEC5',\n",
       "                                                                  '#B0BEC5',\n",
       "                                                                  '#B0BEC5', 'red',\n",
       "                                                                  '#B0BEC5',\n",
       "                                                                  '#B0BEC5',\n",
       "                                                                  '#B0BEC5']]}],\n",
       "                                       'label': 'Topic 9',\n",
       "                                       'method': 'update'},\n",
       "                                      {'args': [{'marker.color': [['#B0BEC5',\n",
       "                                                                  '#B0BEC5',\n",
       "                                                                  '#B0BEC5',\n",
       "                                                                  '#B0BEC5',\n",
       "                                                                  '#B0BEC5',\n",
       "                                                                  '#B0BEC5',\n",
       "                                                                  '#B0BEC5',\n",
       "                                                                  '#B0BEC5',\n",
       "                                                                  '#B0BEC5',\n",
       "                                                                  '#B0BEC5', 'red',\n",
       "                                                                  '#B0BEC5',\n",
       "                                                                  '#B0BEC5']]}],\n",
       "                                       'label': 'Topic 10',\n",
       "                                       'method': 'update'},\n",
       "                                      {'args': [{'marker.color': [['#B0BEC5',\n",
       "                                                                  '#B0BEC5',\n",
       "                                                                  '#B0BEC5',\n",
       "                                                                  '#B0BEC5',\n",
       "                                                                  '#B0BEC5',\n",
       "                                                                  '#B0BEC5',\n",
       "                                                                  '#B0BEC5',\n",
       "                                                                  '#B0BEC5',\n",
       "                                                                  '#B0BEC5',\n",
       "                                                                  '#B0BEC5',\n",
       "                                                                  '#B0BEC5', 'red',\n",
       "                                                                  '#B0BEC5']]}],\n",
       "                                       'label': 'Topic 11',\n",
       "                                       'method': 'update'},\n",
       "                                      {'args': [{'marker.color': [['#B0BEC5',\n",
       "                                                                  '#B0BEC5',\n",
       "                                                                  '#B0BEC5',\n",
       "                                                                  '#B0BEC5',\n",
       "                                                                  '#B0BEC5',\n",
       "                                                                  '#B0BEC5',\n",
       "                                                                  '#B0BEC5',\n",
       "                                                                  '#B0BEC5',\n",
       "                                                                  '#B0BEC5',\n",
       "                                                                  '#B0BEC5',\n",
       "                                                                  '#B0BEC5',\n",
       "                                                                  '#B0BEC5',\n",
       "                                                                  'red']]}],\n",
       "                                       'label': 'Topic 12',\n",
       "                                       'method': 'update'}]}],\n",
       "               'template': '...',\n",
       "               'title': {'font': {'color': 'Black', 'size': 22},\n",
       "                         'text': '<b>Intertopic Distance Map</b>',\n",
       "                         'x': 0.5,\n",
       "                         'xanchor': 'center',\n",
       "                         'y': 0.95,\n",
       "                         'yanchor': 'top'},\n",
       "               'width': 650,\n",
       "               'xaxis': {'anchor': 'y',\n",
       "                         'domain': [0.0, 1.0],\n",
       "                         'range': [0.6502534836530686, 3.1145327925682067],\n",
       "                         'title': {'text': ''},\n",
       "                         'visible': False},\n",
       "               'yaxis': {'anchor': 'x',\n",
       "                         'domain': [0.0, 1.0],\n",
       "                         'range': [-2.497896158695221, 26.296155738830567],\n",
       "                         'title': {'text': ''},\n",
       "                         'visible': False}}\n",
       "})"
      ]
     },
     "execution_count": 7,
     "metadata": {},
     "output_type": "execute_result"
    }
   ],
   "source": [
    "topic_model.visualize_topics()"
   ]
  },
  {
   "cell_type": "code",
   "execution_count": 8,
   "metadata": {},
   "outputs": [
    {
     "ename": "NameError",
     "evalue": "name 'topics' is not defined",
     "output_type": "error",
     "traceback": [
      "\u001b[0;31m---------------------------------------------------------------------------\u001b[0m",
      "\u001b[0;31mNameError\u001b[0m                                 Traceback (most recent call last)",
      "Cell \u001b[0;32mIn[8], line 1\u001b[0m\n\u001b[0;32m----> 1\u001b[0m plt\u001b[38;5;241m.\u001b[39mhist(\u001b[43mtopics\u001b[49m)\n",
      "\u001b[0;31mNameError\u001b[0m: name 'topics' is not defined"
     ]
    }
   ],
   "source": [
    "plt.hist(topics)"
   ]
  },
  {
   "cell_type": "code",
   "execution_count": 9,
   "metadata": {},
   "outputs": [
    {
     "ename": "NameError",
     "evalue": "name 'AutoModelForSequenceClassification' is not defined",
     "output_type": "error",
     "traceback": [
      "\u001b[0;31m---------------------------------------------------------------------------\u001b[0m",
      "\u001b[0;31mNameError\u001b[0m                                 Traceback (most recent call last)",
      "Cell \u001b[0;32mIn[9], line 3\u001b[0m\n\u001b[1;32m      1\u001b[0m model_name \u001b[38;5;241m=\u001b[39m \u001b[38;5;124m\"\u001b[39m\u001b[38;5;124mmicrosoft/MiniLM-L12-H384-uncased\u001b[39m\u001b[38;5;124m\"\u001b[39m\n\u001b[1;32m      2\u001b[0m num_labels \u001b[38;5;241m=\u001b[39m \u001b[38;5;241m10\u001b[39m\u001b[38;5;66;03m# Set this to the number of unique tags in your dataset\u001b[39;00m\n\u001b[0;32m----> 3\u001b[0m model \u001b[38;5;241m=\u001b[39m \u001b[43mAutoModelForSequenceClassification\u001b[49m\u001b[38;5;241m.\u001b[39mfrom_pretrained(model_name, num_labels\u001b[38;5;241m=\u001b[39mnum_labels)\n\u001b[1;32m      4\u001b[0m tokenizer \u001b[38;5;241m=\u001b[39m AutoTokenizer\u001b[38;5;241m.\u001b[39mfrom_pretrained(model_name)\n\u001b[1;32m      5\u001b[0m loss_fn \u001b[38;5;241m=\u001b[39m torch\u001b[38;5;241m.\u001b[39mnn\u001b[38;5;241m.\u001b[39mBCEWithLogitsLoss()\n",
      "\u001b[0;31mNameError\u001b[0m: name 'AutoModelForSequenceClassification' is not defined"
     ]
    }
   ],
   "source": [
    "model_name = \"microsoft/MiniLM-L12-H384-uncased\"\n",
    "num_labels = 10# Set this to the number of unique tags in your dataset\n",
    "model = AutoModelForSequenceClassification.from_pretrained(model_name, num_labels=num_labels)\n",
    "tokenizer = AutoTokenizer.from_pretrained(model_name)\n",
    "loss_fn = torch.nn.BCEWithLogitsLoss()"
   ]
  },
  {
   "cell_type": "markdown",
   "metadata": {},
   "source": [
    "## Pipeline "
   ]
  },
  {
   "cell_type": "code",
   "execution_count": 13,
   "metadata": {},
   "outputs": [
    {
     "name": "stderr",
     "output_type": "stream",
     "text": [
      "100%|██████████| 45/45 [01:37<00:00,  2.17s/it]\n"
     ]
    }
   ],
   "source": [
    "import glob\n",
    "import pandas as pd\n",
    "import json\n",
    "\n",
    "#load all of the bets into a single dataframe\n",
    "file_glob = \"/Users/willthompson/Documents/CSDS/side_projects/belief-blender/src/data/bets\"\n",
    "\n",
    "to_load=[]\n",
    "file_list = glob.glob(file_glob + \"/*.json\")\n",
    "market_ids = set()\n",
    "#identify all of the unique market ids in the bets dataset\n",
    "for path in tqdm(file_list):\n",
    "    # print(path)\n",
    "    with open(path, 'r') as f:\n",
    "       df = pd.read_json(f)\n",
    "       market_ids.update(set(df.contractId.unique()))\n"
   ]
  },
  {
   "cell_type": "code",
   "execution_count": null,
   "metadata": {},
   "outputs": [],
   "source": []
  },
  {
   "cell_type": "code",
   "execution_count": 22,
   "metadata": {},
   "outputs": [
    {
     "name": "stderr",
     "output_type": "stream",
     "text": [
      "  0%|          | 18/50449 [00:13<9:31:47,  1.47it/s] "
     ]
    },
    {
     "name": "stdout",
     "output_type": "stream",
     "text": [
      "market not found\n"
     ]
    },
    {
     "name": "stderr",
     "output_type": "stream",
     "text": [
      "  0%|          | 58/50449 [00:45<10:27:04,  1.34it/s]"
     ]
    },
    {
     "name": "stdout",
     "output_type": "stream",
     "text": [
      "market not found\n"
     ]
    },
    {
     "name": "stderr",
     "output_type": "stream",
     "text": [
      "  0%|          | 119/50449 [01:32<11:17:45,  1.24it/s]"
     ]
    },
    {
     "name": "stdout",
     "output_type": "stream",
     "text": [
      "market not found\n"
     ]
    },
    {
     "name": "stderr",
     "output_type": "stream",
     "text": [
      "  0%|          | 144/50449 [01:51<10:26:29,  1.34it/s]"
     ]
    },
    {
     "name": "stdout",
     "output_type": "stream",
     "text": [
      "market not found\n"
     ]
    },
    {
     "name": "stderr",
     "output_type": "stream",
     "text": [
      "  0%|          | 159/50449 [02:01<8:27:31,  1.65it/s] "
     ]
    },
    {
     "name": "stdout",
     "output_type": "stream",
     "text": [
      "market not found\n"
     ]
    },
    {
     "name": "stderr",
     "output_type": "stream",
     "text": [
      "  0%|          | 162/50449 [02:03<9:28:36,  1.47it/s]"
     ]
    },
    {
     "name": "stdout",
     "output_type": "stream",
     "text": [
      "market not found\n"
     ]
    },
    {
     "name": "stderr",
     "output_type": "stream",
     "text": [
      "  0%|          | 176/50449 [02:14<8:53:01,  1.57it/s] "
     ]
    },
    {
     "name": "stdout",
     "output_type": "stream",
     "text": [
      "market not found\n"
     ]
    },
    {
     "name": "stderr",
     "output_type": "stream",
     "text": [
      "  0%|          | 181/50449 [02:17<7:55:25,  1.76it/s]"
     ]
    },
    {
     "name": "stdout",
     "output_type": "stream",
     "text": [
      "market not found\n"
     ]
    },
    {
     "name": "stderr",
     "output_type": "stream",
     "text": [
      "  0%|          | 249/50449 [03:11<12:36:40,  1.11it/s]"
     ]
    },
    {
     "name": "stdout",
     "output_type": "stream",
     "text": [
      "market not found\n"
     ]
    },
    {
     "name": "stderr",
     "output_type": "stream",
     "text": [
      "  1%|          | 319/50449 [04:11<10:59:48,  1.27it/s]"
     ]
    },
    {
     "name": "stdout",
     "output_type": "stream",
     "text": [
      "market not found\n"
     ]
    },
    {
     "name": "stderr",
     "output_type": "stream",
     "text": [
      "  1%|          | 337/50449 [04:25<10:43:07,  1.30it/s]"
     ]
    },
    {
     "name": "stdout",
     "output_type": "stream",
     "text": [
      "market not found\n"
     ]
    },
    {
     "name": "stderr",
     "output_type": "stream",
     "text": [
      "  1%|          | 381/50449 [04:59<10:38:11,  1.31it/s]"
     ]
    },
    {
     "name": "stdout",
     "output_type": "stream",
     "text": [
      "market not found\n"
     ]
    },
    {
     "name": "stderr",
     "output_type": "stream",
     "text": [
      "  1%|          | 404/50449 [05:16<7:58:38,  1.74it/s] "
     ]
    },
    {
     "name": "stdout",
     "output_type": "stream",
     "text": [
      "market not found\n"
     ]
    },
    {
     "name": "stderr",
     "output_type": "stream",
     "text": [
      "  1%|          | 412/50449 [05:22<10:01:33,  1.39it/s]"
     ]
    },
    {
     "name": "stdout",
     "output_type": "stream",
     "text": [
      "market not found\n"
     ]
    },
    {
     "name": "stderr",
     "output_type": "stream",
     "text": [
      "  1%|          | 423/50449 [05:31<11:30:16,  1.21it/s]"
     ]
    },
    {
     "name": "stdout",
     "output_type": "stream",
     "text": [
      "market not found\n"
     ]
    },
    {
     "name": "stderr",
     "output_type": "stream",
     "text": [
      "  1%|          | 431/50449 [05:37<9:49:09,  1.41it/s] "
     ]
    },
    {
     "name": "stdout",
     "output_type": "stream",
     "text": [
      "market not found\n"
     ]
    },
    {
     "name": "stderr",
     "output_type": "stream",
     "text": [
      "  1%|          | 436/50449 [05:41<8:59:16,  1.55it/s] "
     ]
    },
    {
     "name": "stdout",
     "output_type": "stream",
     "text": [
      "market not found\n"
     ]
    },
    {
     "name": "stderr",
     "output_type": "stream",
     "text": [
      "  1%|          | 440/50449 [05:44<9:58:11,  1.39it/s]"
     ]
    },
    {
     "name": "stdout",
     "output_type": "stream",
     "text": [
      "market not found\n"
     ]
    },
    {
     "name": "stderr",
     "output_type": "stream",
     "text": [
      "  1%|          | 451/50449 [05:52<9:00:12,  1.54it/s] "
     ]
    },
    {
     "name": "stdout",
     "output_type": "stream",
     "text": [
      "market not found\n"
     ]
    },
    {
     "name": "stderr",
     "output_type": "stream",
     "text": [
      "  1%|          | 454/50449 [05:54<8:23:09,  1.66it/s] "
     ]
    },
    {
     "name": "stdout",
     "output_type": "stream",
     "text": [
      "market not found\n"
     ]
    },
    {
     "name": "stderr",
     "output_type": "stream",
     "text": [
      "  1%|          | 460/50449 [05:58<8:52:33,  1.56it/s] "
     ]
    },
    {
     "name": "stdout",
     "output_type": "stream",
     "text": [
      "market not found\n"
     ]
    },
    {
     "name": "stderr",
     "output_type": "stream",
     "text": [
      "  1%|          | 470/50449 [06:06<11:18:34,  1.23it/s]"
     ]
    },
    {
     "name": "stdout",
     "output_type": "stream",
     "text": [
      "market not found\n"
     ]
    },
    {
     "name": "stderr",
     "output_type": "stream",
     "text": [
      "  1%|          | 475/50449 [06:10<10:32:13,  1.32it/s]"
     ]
    }
   ],
   "source": [
    "#GET MARKET DATA\n",
    "market_ids_list = list(market_ids)\n",
    "market_data = []\n",
    "market_id_i = market_ids_list[1]\n",
    "\n",
    "#loop through market ids and exract market data and append it to a list\n",
    "for market_id_i in tqdm(market_ids_list):\n",
    "    try:\n",
    "        my_market = mp.api.get_market(market_id_i)\n",
    "    except:\n",
    "        print(\"market not found\")\n",
    "        continue\n",
    "    market_dict = {}\n",
    "    market_dict['id'] = market_id_i\n",
    "    market_dict['creatorId'] = my_market.creatorId\n",
    "    market_dict['createdTime'] = my_market.createdTime\n",
    "    market_dict['question'] = my_market.question\n",
    "    market_dict['tags'] = my_market.tags\n",
    "    market_dict['totalLiquidity'] = my_market.totalLiquidity\n",
    "    try:\n",
    "        market_dict['text'] = market_text_representation(my_market)\n",
    "    except:\n",
    "        print(\"market not found\")\n",
    "        continue\n",
    "    market_data.append(market_dict)\n",
    "\n",
    "\n",
    "\n",
    "\n"
   ]
  },
  {
   "cell_type": "code",
   "execution_count": null,
   "metadata": {},
   "outputs": [],
   "source": []
  }
 ],
 "metadata": {
  "kernelspec": {
   "display_name": "beleif-blender",
   "language": "python",
   "name": "python3"
  },
  "language_info": {
   "codemirror_mode": {
    "name": "ipython",
    "version": 3
   },
   "file_extension": ".py",
   "mimetype": "text/x-python",
   "name": "python",
   "nbconvert_exporter": "python",
   "pygments_lexer": "ipython3",
   "version": "3.8.18"
  }
 },
 "nbformat": 4,
 "nbformat_minor": 2
}
